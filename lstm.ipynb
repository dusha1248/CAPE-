{
 "cells": [
  {
   "cell_type": "code",
   "execution_count": 1,
   "metadata": {},
   "outputs": [],
   "source": [
    "import pandas as pd\n",
    "from tqdm import tqdm\n",
    "import numpy as np\n",
    "import matplotlib.pyplot as plt\n",
    "import json\n",
    "\n",
    "import torch, torch.nn as nn\n",
    "import torch.nn.functional as F\n",
    "from torch.autograd import Variable"
   ]
  },
  {
   "cell_type": "code",
   "execution_count": 2,
   "metadata": {},
   "outputs": [
    {
     "data": {
      "text/plain": [
       "<torch._C.Generator at 0x1d3f04bd970>"
      ]
     },
     "execution_count": 2,
     "metadata": {},
     "output_type": "execute_result"
    }
   ],
   "source": [
    "torch.manual_seed(1)"
   ]
  },
  {
   "cell_type": "code",
   "execution_count": 8,
   "metadata": {},
   "outputs": [],
   "source": [
    "TRAIN_DATA_CONTEXT_PATH = \"data/train_context.txt\"\n",
    "TEST_DATA_CONTEXT_PATH = \"data/test_context.txt\""
   ]
  },
  {
   "cell_type": "code",
   "execution_count": 9,
   "metadata": {},
   "outputs": [],
   "source": [
    "EMBEDDING_DIM = 300\n",
    "LSTM_NUM_UNITS = 512\n",
    "\n",
    "EPOCHS = 50\n",
    "BATCH_SIZE = 50\n",
    "BATCHES_PER_EPOCH = 50"
   ]
  },
  {
   "cell_type": "code",
   "execution_count": 10,
   "metadata": {},
   "outputs": [],
   "source": [
    "def load_data(train_data_context_path, test_data_context_path):\n",
    "\n",
    "    train_context = [line.strip() for line in open(train_data_context_path).readlines()]\n",
    "    test_context = [line.strip() for line in open(test_data_context_path).readlines()]\n",
    "    \n",
    "    return train_context, test_context\n",
    "\n",
    "def indexing(_train_context, _test_context):\n",
    "\n",
    "    train_context = []\n",
    "\n",
    "    poi2id = {\"<PAD>\":0}\n",
    "    id2poi = [\"<PAD>\"]\n",
    "\n",
    "    for line in _train_context:\n",
    "        tokens = line.split(\"\\t\")\n",
    "        for poi in tokens:\n",
    "            if poi not in poi2id:\n",
    "                poi2id[poi] = len(poi2id)\n",
    "                id2poi.append(poi)\n",
    "        train_context.append([poi2id[poi] for poi in tokens])\n",
    "        \n",
    "    test_context = []\n",
    "    \n",
    "    for line in _test_context:\n",
    "        tokens = line.split(\"\\t\")\n",
    "        test_context.append([poi2id.get(poi, 0) for poi in tokens])\n",
    "\n",
    "    return poi2id, id2poi, train_context, test_context\n",
    "\n",
    "def as_matrix(sequences, max_len=None):\n",
    "    max_len = max_len or max(map(len, sequences))\n",
    "    matrix = np.zeros((len(sequences), max_len), dtype=np.int32)\n",
    "    for i, seq in enumerate(sequences):\n",
    "        matrix[i, :len(seq)] = seq\n",
    "    return matrix\n",
    "\n",
    "def generate_batches(context, batch_size):\n",
    "    context_ix = as_matrix(np.random.choice(train_context, batch_size, replace=False))\n",
    "    batch_context = []\n",
    "    for ix in context_ix:\n",
    "        batch_context.append([EMBEDDING_MATRIX[i] for i in ix])\n",
    "    return batch_context"
   ]
  },
  {
   "cell_type": "code",
   "execution_count": 11,
   "metadata": {},
   "outputs": [],
   "source": [
    "class LSTMLoop(nn.Module):\n",
    "    def __init__(self, poi_num, embedding_dim, lstm_num_units, embedding_matrix):\n",
    "        super().__init__()\n",
    "        self.poi_num = poi_num\n",
    "        self.embedding_dim = embedding_dim\n",
    "        self.lstm_num_units = lstm_num_units\n",
    "        self.weight = Variable(torch.FloatTensor(embedding_matrix))\n",
    "        \n",
    "        self.emb = nn.Embedding(self.poi_num, self.embedding_dim, _weight=self.weight)\n",
    "        self.lstm = nn.LSTM(self.embedding_dim, self.lstm_num_units, batch_first=True)\n",
    "        self.logits = nn.Linear(self.lstm_num_units, self.poi_num)\n",
    "        \n",
    "        self.emb.weight.requires_grad = False\n",
    "        \n",
    "    def forward(self, context):\n",
    "        lstm_inp = self.emb(context)\n",
    "        lstm_out, _ = self.lstm(lstm_inp)\n",
    "        logits = self.logits(lstm_out)\n",
    "        return logits"
   ]
  },
  {
   "cell_type": "code",
   "execution_count": 12,
   "metadata": {},
   "outputs": [],
   "source": [
    "def compute_loss(network, context):\n",
    "    \n",
    "    context_inp = context[:, :-1].contiguous()\n",
    "    context_next = context[:, 1:].contiguous()\n",
    "    \n",
    "    logits_for_next = network.forward(context_inp)\n",
    "    \n",
    "    \n",
    "    # compute the loss function between logits_for_next and captions_ix_next\n",
    "    # Use the mask, Luke: make sure that predicting next tokens after EOS do not contribute to loss\n",
    "    # you can do that either by multiplying elementwise loss by (captions_ix_next != pad_ix)\n",
    "    # or by using ignore_index in some losses.\n",
    "    \n",
    "    logp_for_next = F.log_softmax(logits_for_next, dim=-1)\n",
    "    loss = F.nll_loss(logp_for_next.contiguous().view(-1, poi_num), \n",
    "                      context_next.view(-1),\n",
    "                      ignore_index=0)\n",
    "    \n",
    "    return loss"
   ]
  },
  {
   "cell_type": "code",
   "execution_count": 42,
   "metadata": {},
   "outputs": [
    {
     "name": "stdout",
     "output_type": "stream",
     "text": [
      "Data Loading..\n",
      "Data Indexing..\n",
      "Number of POIs: 2861\n"
     ]
    }
   ],
   "source": [
    "print(\"Data Loading..\")\n",
    "train_context, test_context = load_data(TRAIN_DATA_CONTEXT_PATH, TEST_DATA_CONTEXT_PATH)\n",
    "\n",
    "print(\"Data Indexing..\")\n",
    "poi2id, id2poi, train_context, test_context = indexing(train_context, test_context)\n",
    "poi_num = len(poi2id)\n",
    "print('Number of POIs: {}'.format(len(poi2id)-1))"
   ]
  },
  {
   "cell_type": "code",
   "execution_count": 26,
   "metadata": {},
   "outputs": [],
   "source": [
    "id2poi_df = pd.DataFrame(id2poi)\n",
    "id2poi_df.to_csv('id2poi.csv', index=False)"
   ]
  },
  {
   "cell_type": "code",
   "execution_count": 39,
   "metadata": {},
   "outputs": [],
   "source": [
    "_id2poi = []\n",
    "for i, val in enumerate(id2poi):\n",
    "    _id2poi.append((i, val))\n",
    "pd.DataFrame(_id2poi).to_csv('id2poi.csv', index=False)"
   ]
  },
  {
   "cell_type": "code",
   "execution_count": 37,
   "metadata": {},
   "outputs": [],
   "source": [
    "poi2id_df = pd.DataFrame({0: poi2id.values(), 1:poi2id.keys()},)\n",
    "poi2id_df.to_csv('poi2id.csv', index=False)"
   ]
  },
  {
   "cell_type": "code",
   "execution_count": 41,
   "metadata": {},
   "outputs": [
    {
     "data": {
      "text/plain": [
       "2862"
      ]
     },
     "execution_count": 41,
     "metadata": {},
     "output_type": "execute_result"
    }
   ],
   "source": [
    "len(poi2id)"
   ]
  },
  {
   "cell_type": "code",
   "execution_count": 44,
   "metadata": {},
   "outputs": [],
   "source": [
    "with open('../POI-Recommender-based-on-Instagram-Profile-master/data/poi2id.json') as f:\n",
    "    a = json.load(f)"
   ]
  },
  {
   "cell_type": "code",
   "execution_count": 2,
   "metadata": {},
   "outputs": [],
   "source": [
    "df = pd.read_csv('../POI-Recommender-based-on-Instagram-Profile-master/data/pics.csv')"
   ]
  },
  {
   "cell_type": "code",
   "execution_count": 53,
   "metadata": {},
   "outputs": [],
   "source": [
    "with open('a', 'w') as f:\n",
    "    json.dump(['Stockholms län, Sweden'], f)"
   ]
  },
  {
   "cell_type": "code",
   "execution_count": 7,
   "metadata": {},
   "outputs": [
    {
     "data": {
      "text/plain": [
       "{nan,\n",
       " \"Cherkas'ka oblast, Ukraine\",\n",
       " 'กระบี่, Thailand',\n",
       " 'Corfu, Greece',\n",
       " 'Ben Tre, Vietnam',\n",
       " 'Zagrebačka županija, Croatia',\n",
       " 'Fukui, Japan',\n",
       " '沖縄県, Japan',\n",
       " 'Fajardo, Puerto Rico',\n",
       " 'Ulsan, South Korea',\n",
       " 'Saulkrastu pilsēta, Latvia',\n",
       " 'Ocho Rios, Jamaica',\n",
       " 'Espírito Santo, Brazil',\n",
       " 'Calabarzon, Philippines',\n",
       " 'Karabük, Turkey',\n",
       " 'Jihomoravský kraj, Czechia',\n",
       " 'Vedersø, Denmark',\n",
       " 'Ravne na Koroškem, Slovenia',\n",
       " 'Altay Prefecture, China',\n",
       " 'Yalova, Turkey',\n",
       " 'Valais, Switzerland',\n",
       " 'Southern Aegean, Greece',\n",
       " 'State of Amazonas, Brazil',\n",
       " 'Rivière Noire District, Mauritius',\n",
       " 'Capesterre-de-Marie-Galante, Guadeloupe',\n",
       " 'Rakhine, Myanmar (Burma)',\n",
       " 'Kep Province, Cambodia',\n",
       " 'Kedah, Malaysia',\n",
       " 'Stann Creek District, Belize',\n",
       " 'Beijing Shi, China',\n",
       " 'Gazimağusa, Cyprus',\n",
       " 'Saint-Pierre, Martinique',\n",
       " 'Qakh, Azerbaijan',\n",
       " 'Saint Pierre, ',\n",
       " 'Quảng Nam, Vietnam',\n",
       " 'Seltjarnarnes, Iceland',\n",
       " 'Guatemala, Guatemala',\n",
       " 'Mommark, Denmark',\n",
       " 'دبي, United Arab Emirates',\n",
       " 'Brașov County, Romania',\n",
       " 'Tas-Sliema, Malta',\n",
       " 'Kiambu County, Kenya',\n",
       " 'Binh Dinh Province, Vietnam',\n",
       " 'La Romana, Dominican Republic',\n",
       " 'Kastrup, Denmark',\n",
       " 'ولاية إليزي, Algeria',\n",
       " 'Tyrol, Austria',\n",
       " 'Hardap Region, Namibia',\n",
       " 'Gümüşhane, Turkey',\n",
       " 'Córdoba, Argentina',\n",
       " 'Općina Rovinj, Croatia',\n",
       " 'Hlavní město Praha, Czechia',\n",
       " 'Hirtshals, Denmark',\n",
       " 'Chérrepe, Peru',\n",
       " 'Tây Ninh, Vietnam',\n",
       " 'Western Australia, Australia',\n",
       " 'Provincia de Santa Cruz, Argentina',\n",
       " 'Provincia di Rovigo, Italy',\n",
       " 'Bouillante, Guadeloupe',\n",
       " 'Gaafu Alifu Atoll, Maldives',\n",
       " 'Sucre, Colombia',\n",
       " 'Antofagasta, Chile',\n",
       " 'Qarku i Kukësit, Albania',\n",
       " 'Dokkedal, Denmark',\n",
       " 'Paro, Bhutan',\n",
       " 'Catania, Italy',\n",
       " 'Atlantique, Benin',\n",
       " 'Antananarivo Province, Madagascar',\n",
       " 'Gyöngyös, Hungary',\n",
       " 'Utuado, Puerto Rico',\n",
       " 'Leninsky District, Russia',\n",
       " 'East Sussex, United Kingdom',\n",
       " 'Vojvodino, Serbia',\n",
       " 'Stellendam, Netherlands',\n",
       " 'Gia Lai, Vietnam',\n",
       " 'Risskov, Denmark',\n",
       " 'Konnevesi, Finland',\n",
       " 'Kütahya, Turkey',\n",
       " 'Daerah Istimewa Yogyakarta, Indonesia',\n",
       " 'Río Negro, Argentina',\n",
       " 'Kherson Oblast, Ukraine',\n",
       " 'Antalya, Turkey',\n",
       " 'Wissant, France',\n",
       " 'Siparia Regional Corporation, Trinidad and Tobago',\n",
       " '里斯本区, Portugal',\n",
       " 'Köngäs, Finland',\n",
       " 'Uasin Gishu County, Kenya',\n",
       " 'Zamora Chinchipe, Ecuador',\n",
       " 'ደቡብ ብሔሮች ብሔረሰቦችና ሕዝቦች ክልል, Ethiopia',\n",
       " 'Zlínský kraj, Czechia',\n",
       " 'Tierra del Fuego, Argentina',\n",
       " 'Vienna, Austria',\n",
       " 'Raški okrug, Serbia',\n",
       " 'Moskva, Russia',\n",
       " 'Afar, Ethiopia',\n",
       " 'Añasco, Puerto Rico',\n",
       " 'Chalkidiki, Greece',\n",
       " 'Arkansas, United States',\n",
       " 'Rømø, Denmark',\n",
       " 'ខេត្តសៀមរាប, Cambodia',\n",
       " 'Bouïra Province, Algeria',\n",
       " 'Hebei Sheng, China',\n",
       " 'Itapúa, Paraguay',\n",
       " 'Ловеч, Bulgaria',\n",
       " 'Kardzhali Province, Bulgaria',\n",
       " 'Bragança District, Portugal',\n",
       " 'გურიის მხარე, Georgia',\n",
       " 'Hollókő, Hungary',\n",
       " 'Sutri Parish, Latvia',\n",
       " 'Gelderland, Netherlands',\n",
       " 'Oita, Japan',\n",
       " 'Greater Skopje, North Macedonia',\n",
       " 'Sporades, Greece',\n",
       " 'Phocis, Greece',\n",
       " 'Bryansk Oblast, Russia',\n",
       " 'Lima, Peru',\n",
       " 'Usulután Department, El Salvador',\n",
       " 'Bokeo Province, Laos',\n",
       " 'Hunan, China',\n",
       " 'Hrodna Region, Belarus',\n",
       " 'Morud, Denmark',\n",
       " 'St. James Parish, Jamaica',\n",
       " 'Ceuta, Spain',\n",
       " 'Tunceli, Turkey',\n",
       " 'Basel-Stadt, Switzerland',\n",
       " 'Mila Province, Algeria',\n",
       " 'Nordstrand, Germany',\n",
       " 'Al Batinah North Governorate, Oman',\n",
       " 'Saint Mary, Antigua and Barbuda',\n",
       " 'Western Cape, South Africa',\n",
       " 'Pomoravlje District, Serbia',\n",
       " 'Wyoming, United States',\n",
       " 'সিলেট বিভাগ, Bangladesh',\n",
       " 'Loei, Thailand',\n",
       " 'Mosta, Malta',\n",
       " 'Manchester Parish, Jamaica',\n",
       " 'Oryol Oblast, Russia',\n",
       " 'Tainan City, Taiwan',\n",
       " 'Napo, Ecuador',\n",
       " 'Santa Ana, El Salvador',\n",
       " 'Краснодарский край, Russia',\n",
       " 'Alexandria Governorate, Egypt',\n",
       " 'Aydın, Turkey',\n",
       " 'Caraș-Severin County, Romania',\n",
       " 'Republic of Bashkortostan, Russia',\n",
       " 'tỉnh Kiên Giang, Vietnam',\n",
       " 'St. Patrick, Saint Vincent and the Grenadines',\n",
       " 'Gmina Žabljak, Montenegro',\n",
       " 'Kaohsiung City, Taiwan',\n",
       " 'Aalborg, Denmark',\n",
       " 'ประจวบคีรีขันธ์, Thailand',\n",
       " 'Vága Municipality, Faroe Islands',\n",
       " 'Pskov Oblast, Russia',\n",
       " 'Vorarlberg, Austria',\n",
       " 'Santa Fe, Argentina',\n",
       " 'Port Louis District, Mauritius',\n",
       " 'Kédougou Region, Senegal',\n",
       " 'Miyagi, Japan',\n",
       " 'Lopburi, Thailand',\n",
       " 'Copenhagen, Denmark',\n",
       " 'Ceará, Brazil',\n",
       " 'Corozal District, Belize',\n",
       " 'Zhangye, China',\n",
       " 'Piran, Slovenia',\n",
       " 'Prague, Czechia',\n",
       " \"Dnipropetrovs'ka oblast, Ukraine\",\n",
       " 'Central Region, Uganda',\n",
       " 'Free State, South Africa',\n",
       " 'Manyara Region, Tanzania',\n",
       " 'Κέρκυρα, Greece',\n",
       " 'Dnipropetrovsk Oblast, Ukraine',\n",
       " 'Ninh Bình, Vietnam',\n",
       " 'Tetãvore Paraguari, Paraguay',\n",
       " 'Setubal, Portugal',\n",
       " 'Pietarsaari, Finland',\n",
       " 'Thaa Atoll, Maldives',\n",
       " 'Préfecture de Tanger-Assilah, Morocco',\n",
       " 'Maule, Chile',\n",
       " 'Kavala Prefecture, Greece',\n",
       " 'Chimaltenango Department, Guatemala',\n",
       " 'Alta Verapaz Department, Guatemala',\n",
       " 'Aswan Governorate, Egypt',\n",
       " 'Aarup, Denmark',\n",
       " 'Norte de Santander, Colombia',\n",
       " 'Nordland, Norway',\n",
       " 'Municipality of Bitola, North Macedonia',\n",
       " 'Județul Timiș, Romania',\n",
       " 'Iowa, United States',\n",
       " 'Tozeur, Tunisia',\n",
       " 'Bøur, Faroe Islands',\n",
       " 'Tokyo, Japan',\n",
       " 'Perm Krai, Russia',\n",
       " 'Bauchi, Nigeria',\n",
       " 'Beja, Portugal',\n",
       " 'Selangor, Malaysia',\n",
       " 'VI, U.S. Virgin Islands',\n",
       " 'The Valley, Anguilla',\n",
       " 'Ida-Viru County, Estonia',\n",
       " 'Žilina Region, Slovakia',\n",
       " 'Monagas, Venezuela',\n",
       " 'Kébili, Tunisia',\n",
       " 'Masaya, Nicaragua',\n",
       " '京都府, Japan',\n",
       " 'Metlika, Slovenia',\n",
       " 'Lenart, Slovenia',\n",
       " 'County Clare, Ireland',\n",
       " 'Cordillera Department, Paraguay',\n",
       " 'Shiga, Japan',\n",
       " 'Bremen, Germany',\n",
       " 'Epirus, Greece',\n",
       " 'Haut-Ogooue, Gabon',\n",
       " 'County Laois, Ireland',\n",
       " 'Jutiapa Department, Guatemala',\n",
       " 'Savaneta, Aruba',\n",
       " 'Sachsen-Anhalt, Germany',\n",
       " 'Kalkkinen, Finland',\n",
       " 'St. Thomas, U.S. Virgin Islands',\n",
       " 'Guelma Province, Algeria',\n",
       " 'Opština Kotor, Montenegro',\n",
       " 'Los Ríos, Chile',\n",
       " 'Triesenberg, Liechtenstein',\n",
       " 'Orhei District, Moldova',\n",
       " 'Santa Ana Department, El Salvador',\n",
       " 'Kirkjubøur, Faroe Islands',\n",
       " 'San Juan Province, Dominican Republic',\n",
       " 'Vác, Hungary',\n",
       " 'Bangkok, Thailand',\n",
       " 'Ħal Għaxaq, Malta',\n",
       " 'San Marcos Department, Mexico',\n",
       " 'Județul Covasna, Romania',\n",
       " 'Kajiado County, Kenya',\n",
       " 'Roi Et, Thailand',\n",
       " 'استان اصفهان, Iran',\n",
       " 'Voronezh Oblast, Russia',\n",
       " 'Loimaa, Finland',\n",
       " 'East End, Cayman Islands',\n",
       " 'Sandwith, United Kingdom',\n",
       " 'Respúblika Kómi, Russia',\n",
       " 'Holte, Denmark',\n",
       " \"Voronezhskaya oblast', Russia\",\n",
       " 'Glaumbær, Iceland',\n",
       " 'Sizilia, Italy',\n",
       " 'Vilniaus apskritis, Lithuania',\n",
       " 'Orocovis, Puerto Rico',\n",
       " 'Šiauliai County, Lithuania',\n",
       " 'Branti Parish, Latvia',\n",
       " 'Praia Grande, Brazil',\n",
       " 'São Vicente, Cape Verde',\n",
       " 'Haifa District, Israel',\n",
       " 'Nuevo León, Mexico',\n",
       " 'Tampere, Finland',\n",
       " 'Mikonos, Greece',\n",
       " 'Bar Municipality, Montenegro',\n",
       " 'Aragon, Spain',\n",
       " 'Narino, Colombia',\n",
       " 'Oberösterreich, Austria',\n",
       " 'Bayan-Ölgii, Mongolia',\n",
       " 'Fortín Sargento Cabral, Antarctica',\n",
       " 'Baf, Cyprus',\n",
       " 'Southern Province, Sri Lanka',\n",
       " 'Thừa Thiên Huế, Vietnam',\n",
       " 'Virovitičko-podravska županija, Croatia',\n",
       " 'Schaffhausen, Switzerland',\n",
       " 'Sabah, Malaysia',\n",
       " 'Praia, Cape Verde',\n",
       " 'Lhaviyani Atoll, Maldives',\n",
       " 'Poltava Oblast, Ukraine',\n",
       " 'An Giang Province, Vietnam',\n",
       " 'Bamako Capital District, Mali',\n",
       " 'Schwyz, Switzerland',\n",
       " 'Cape Town, South Africa',\n",
       " 'Federacija Bosne i Hercegovine, Bosnia and Herzegovina',\n",
       " 'Ranong, Thailand',\n",
       " 'Kagoshima, Japan',\n",
       " 'Csobánka, Hungary',\n",
       " 'Sofia, Bulgaria',\n",
       " 'Laikipia County, Kenya',\n",
       " 'Sankt-Peterburg, Russia',\n",
       " 'Thiès Region, Senegal',\n",
       " 'Noord, Aruba',\n",
       " 'Kabardino-Balkarskaya Respublika, Russia',\n",
       " 'Salta, Argentina',\n",
       " 'Delfi, Singapore',\n",
       " 'Capesterre-Belle-Eau, Guadeloupe',\n",
       " 'Nayarit, Mexico',\n",
       " \"Donets'ka oblast, Ukraine\",\n",
       " 'Baracska, Hungary',\n",
       " '서울특별시, South Korea',\n",
       " 'Città del Vaticano, Vatican City',\n",
       " 'Obwalden, Switzerland',\n",
       " 'Domaszék, Hungary',\n",
       " 'Siguldas pagasts, Latvia',\n",
       " 'Vestland fylke, Norway',\n",
       " 'Brunei-Muara District, Brunei',\n",
       " 'Донецька, Ukraine',\n",
       " 'Brittany, France',\n",
       " 'Domžale, Slovenia',\n",
       " 'Riau Islands, Indonesia',\n",
       " 'Malatya, ',\n",
       " 'Shanxi, China',\n",
       " 'Boumerdès Province, Algeria',\n",
       " 'Monster, Netherlands',\n",
       " 'Chihuahua, Mexico',\n",
       " 'Dhofar Governorate, Oman',\n",
       " 'Korsør, Denmark',\n",
       " 'Dihok, Iraq',\n",
       " 'Šibenik-Knins län, Croatia',\n",
       " 'Provinsi Madinah, Saudi Arabia',\n",
       " 'Icaria, Greece',\n",
       " 'PR, Puerto Rico',\n",
       " 'Dakahlia Governorate, Egypt',\n",
       " 'محافظة العاصمة, Bahrain',\n",
       " 'جنوب سيناء, Egypt',\n",
       " 'Uppsala County, Sweden',\n",
       " 'Rajshahi Division, Bangladesh',\n",
       " 'Sankt Gallen, Switzerland',\n",
       " 'Mkoa wa Mjini Magharibi, Tanzania',\n",
       " 'Tashkent Region, Uzbekistan',\n",
       " 'Medenine, Tunisia',\n",
       " 'Québec, Canada',\n",
       " 'București, Romania',\n",
       " '台北市, Taiwan',\n",
       " 'Софийска област, Bulgaria',\n",
       " 'Adana, Turkey',\n",
       " 'Kalakhang Maynila, Philippines',\n",
       " 'Ad Dakhiliyah \\u200dGovernorate, Oman',\n",
       " 'Provincia de Buenos Aires, Argentina',\n",
       " 'Gorontalo, Indonesia',\n",
       " 'Drâa-Tafilalet, Morocco',\n",
       " 'Odessa Oblast, Ukraine',\n",
       " 'Matrouh Governorate, Egypt',\n",
       " 'Ratnagiri, India',\n",
       " 'Varmland County, Sweden',\n",
       " 'Tekirdağ, Turkey',\n",
       " 'Norrbotten County, Sweden',\n",
       " 'County Cavan, Ireland',\n",
       " 'Porto, Portugal',\n",
       " 'Santarém, Portugal',\n",
       " 'Mkoa wa Kilimanjaro, Tanzania',\n",
       " 'Lajoux, France',\n",
       " 'Saint Peter, Barbados',\n",
       " 'Devon, United Kingdom',\n",
       " 'Akureyri, Iceland',\n",
       " 'Khuzestan Province, Iran',\n",
       " 'Mahajanga Province, Madagascar',\n",
       " 'Veliko Tarnovo Province, Bulgaria',\n",
       " 'Panevėžys County, Lithuania',\n",
       " 'Ulcinj Municipality, Montenegro',\n",
       " 'Daerah Khusus Ibukota Jakarta, Indonesia',\n",
       " 'Kirinyaga County, Kenya',\n",
       " 'Warmian-Masurian Voivodeship, Poland',\n",
       " 'Hope Town, The Bahamas',\n",
       " 'Sinaloa, Mexico',\n",
       " 'South District, Israel',\n",
       " 'Chang Wat Chanthaburi, Thailand',\n",
       " 'Oblast Burgas, Bulgaria',\n",
       " 'Chiang Mai, Thailand',\n",
       " 'Fars Province, Iran',\n",
       " 'Metropolitan City of Cagliari, Italy',\n",
       " 'Sari-Solenzara, France',\n",
       " 'Anzoátegui, Venezuela',\n",
       " 'Saarland, Germany',\n",
       " 'Bình Thuận, Vietnam',\n",
       " 'Montana Province, Bulgaria',\n",
       " 'Guainia, Colombia',\n",
       " 'Vejle, Denmark',\n",
       " 'State of Maranhão, Brazil',\n",
       " 'Ntak:, Hungary',\n",
       " 'Tartu maakond, Estonia',\n",
       " 'Bắc Kạn Province, Vietnam',\n",
       " 'Limón Province, Costa Rica',\n",
       " 'Chang Wat Sa Kaeo, Thailand',\n",
       " 'Achaea, Greece',\n",
       " 'Punkaharju, Finland',\n",
       " 'Śląskie, Poland',\n",
       " 'Nara, Japan',\n",
       " 'Tinos Regional Unit, Greece',\n",
       " 'Nišavski okrug, Serbia',\n",
       " 'Zhoushan, China',\n",
       " 'Sofia City Province, Bulgaria',\n",
       " 'Patillas, Puerto Rico',\n",
       " 'Isabela, Puerto Rico',\n",
       " 'Izabal, Guatemala',\n",
       " 'Provincia di Agrigento, Italy',\n",
       " 'إمارة رأس الخيمة, United Arab Emirates',\n",
       " 'Monastir, Tunisia',\n",
       " 'Duarte, Dominican Republic',\n",
       " 'Respublika Dagestan, Russia',\n",
       " 'Quetzaltenango Department, Guatemala',\n",
       " 'Vila Real, Portugal',\n",
       " 'Stykkishólmur, Iceland',\n",
       " 'Opština Žabljak, Montenegro',\n",
       " 'Birżebbuġa, Malta',\n",
       " 'Ylistaro, Finland',\n",
       " 'peru, Peru',\n",
       " 'Bolívar, Colombia',\n",
       " 'Bourgogne-Franche-Comté, France',\n",
       " 'Messenia, Greece',\n",
       " 'Gyeongsangbuk-do, South Korea',\n",
       " 'Eastern Province, Zambia',\n",
       " 'Sacatepéquez, Guatemala',\n",
       " 'Illes Balears, Spain',\n",
       " 'Querétaro Arteaga, Mexico',\n",
       " 'Sal, Cape Verde',\n",
       " 'River Nile, Sudan',\n",
       " 'Maryland, United States',\n",
       " 'Calabria, Italy',\n",
       " 'County Louth, Ireland',\n",
       " 'Chang Wat Prachuap Khiri Khan, Thailand',\n",
       " 'Gir Somnath, India',\n",
       " 'Flacq District, Mauritius',\n",
       " 'Samarqand viloyati, Uzbekistan',\n",
       " 'San Pedro, Belize',\n",
       " 'Cartago Province, Costa Rica',\n",
       " 'Höfn, Iceland',\n",
       " 'Morelos, Mexico',\n",
       " 'Primorskiy, Russia',\n",
       " 'Departamento de Maldonado, Uruguay',\n",
       " 'محافظة القاهرة\\u202c, Egypt',\n",
       " 'Mehedinți County, Romania',\n",
       " 'Puerto Plata Province, Dominican Republic',\n",
       " 'Corinthia, Greece',\n",
       " 'Chang Wat Phetchabun, Thailand',\n",
       " 'Penal/Debe Regional Corporation, Trinidad and Tobago',\n",
       " 'Fatick, Senegal',\n",
       " 'South Abaco, The Bahamas',\n",
       " 'Saint-Barthélemy, Saint Barthélemy',\n",
       " 'Burgenland, Austria',\n",
       " 'Piura, Peru',\n",
       " 'Kish, Iran',\n",
       " 'Zakarpattia Oblast, Ukraine',\n",
       " 'Torbay, United Kingdom',\n",
       " 'Virgin Gorda, British Virgin Islands',\n",
       " 'Occitania, France',\n",
       " 'Krapinsko-zagorska županija, Croatia',\n",
       " 'South Kazakhstan Province, Kazakhstan',\n",
       " 'Wuxi, China',\n",
       " 'Central Province, Maldives',\n",
       " 'Provincia di Latina, Italy',\n",
       " 'Kepulauan Bangka Belitung, Indonesia',\n",
       " 'Sevilla, Spain',\n",
       " 'San Teodoro, Italy',\n",
       " 'Jerash Governorate, Jordan',\n",
       " 'Szarvas, Hungary',\n",
       " 'Pernik, Bulgaria',\n",
       " 'Gegharkunik, Armenia',\n",
       " 'Chania, Greece',\n",
       " 'Révfülöp, Hungary',\n",
       " 'Lasithi, Greece',\n",
       " 'Muscat, Oman',\n",
       " 'Jiangsu Sheng, China',\n",
       " 'Ouargla Province, Algeria',\n",
       " 'Heilongjiang, China',\n",
       " 'Općina Šolta, Croatia',\n",
       " 'Simiyu Region, Tanzania',\n",
       " 'Skagen, Denmark',\n",
       " 'Moravian-Silesian Region, Czechia',\n",
       " 'Central Sulawesi, Indonesia',\n",
       " 'Hsinchu City, Taiwan',\n",
       " 'Mellieha, Malta',\n",
       " 'Județul Hunedoara, Romania',\n",
       " 'Moscow Oblast, Russia',\n",
       " 'La Romana Province, Dominican Republic',\n",
       " 'Freiburg, Switzerland',\n",
       " 'Chiquimula Department, Guatemala',\n",
       " 'Peravia Province, Dominican Republic',\n",
       " 'La Libertad, El Salvador',\n",
       " 'Northern Region, Malawi',\n",
       " 'Mardin, Turkey',\n",
       " 'Nairobi County, Kenya',\n",
       " 'State of Mato Grosso, Brazil',\n",
       " 'Sétif Province, Algeria',\n",
       " 'Jūrmala, Latvia',\n",
       " 'Balkh, Afghanistan',\n",
       " 'Whitsunday Regional, Australia',\n",
       " 'Budaörs, Hungary',\n",
       " 'Bengkulu, Indonesia',\n",
       " 'Famagusta, Cyprus',\n",
       " 'Hercegkút, Hungary',\n",
       " 'West Bay, Cayman Islands',\n",
       " 'Volta Region, Ghana',\n",
       " 'Ninh Thuận, Vietnam',\n",
       " 'Baja California, Mexico',\n",
       " 'Deszk, Hungary',\n",
       " 'Hellerup, Denmark',\n",
       " 'Chumphon, Thailand',\n",
       " 'State of Santa Catarina, Brazil',\n",
       " 'Guarda District, Portugal',\n",
       " 'Respublika Bashkortostan, Russia',\n",
       " 'Județul Neamț, Romania',\n",
       " 'Kalmar län, Sweden',\n",
       " 'Aleppo Governorate, Syria',\n",
       " 'Primorsky Krai, Russia',\n",
       " 'Humlebæk, Denmark',\n",
       " 'Rødvig, Denmark',\n",
       " 'Западная Вирджиния, United States',\n",
       " 'Khartoum, Sudan',\n",
       " 'Estuaire, Gabon',\n",
       " 'Samut Prakan, Thailand',\n",
       " 'Stavropolskiy kray, Russia',\n",
       " 'Kauno apskritis, Lithuania',\n",
       " 'Huancavelica, Peru',\n",
       " 'Thành phố Hồ Chí Minh, Vietnam',\n",
       " 'Paraná, Brazil',\n",
       " 'West Attica Regional Unit, Greece',\n",
       " 'Xingtai, China',\n",
       " '三重県, Japan',\n",
       " 'Монтана, Bulgaria',\n",
       " 'Podlaskie, Poland',\n",
       " 'Kandestederne, Denmark',\n",
       " 'Canarische Eilanden, Spain',\n",
       " 'Abu Dhabi, United Arab Emirates',\n",
       " 'Aarhus Municipality, Denmark',\n",
       " 'Diekirch, Luxembourg',\n",
       " 'Denizli, Turkey',\n",
       " 'Wales, United Kingdom',\n",
       " 'Karlovačka županija, Croatia',\n",
       " 'Hail Province, Saudi Arabia',\n",
       " 'Arkhangelsk Oblast, Russia',\n",
       " 'Wes-Kaap, South Africa',\n",
       " 'Central Department, Paraguay',\n",
       " 'Sachsen, Germany',\n",
       " 'Western Visayas, Philippines',\n",
       " 'Komuna e Rosomanit, North Macedonia',\n",
       " 'Guri-si, South Korea',\n",
       " 'Pamplemousses District, Mauritius',\n",
       " 'Haderslev, Denmark',\n",
       " 'Siguldas pilsēta, Latvia',\n",
       " 'St. Croix, U.S. Virgin Islands',\n",
       " 'Monaco, Monaco',\n",
       " 'Dörgicse, Hungary',\n",
       " 'Frederiksberg C, Denmark',\n",
       " 'Provincia di Sassari, Italy',\n",
       " 'Norfolk, United Kingdom',\n",
       " 'Faro, Portugal',\n",
       " 'Hvolsvöllur, Iceland',\n",
       " 'Chubut Province, Argentina',\n",
       " 'Kampong Thom Province, Cambodia',\n",
       " 'Санкт-Петербург, Russia',\n",
       " 'Kentucky, United States',\n",
       " 'Chang Wat Ranong, Thailand',\n",
       " 'Santa Elena, Ecuador',\n",
       " 'Regiunea Plovdiv, Bulgaria',\n",
       " 'Cagayan Valley, Philippines',\n",
       " 'Chang Wat Surat Thani, Thailand',\n",
       " 'Dubai, United Arab Emirates',\n",
       " 'Vila Real District, Portugal',\n",
       " 'Suez Governorate, Egypt',\n",
       " 'Rabat, Malta',\n",
       " 'Auvergne-Rhône-Alpes, France',\n",
       " 'South Sulawesi, Indonesia',\n",
       " 'Tønder, Denmark',\n",
       " 'Cebu, Philippines',\n",
       " 'Ratchaburi, Thailand',\n",
       " \"Unitat perifèrica d'Iràklio, Greece\",\n",
       " 'Södermanlands län, Sweden',\n",
       " 'Tataouine, Tunisia',\n",
       " 'Ash Sharqiyah South Governorate, Oman',\n",
       " 'Hermanas Mirabal Province, Dominican Republic',\n",
       " 'Põlva maakond, Estonia',\n",
       " 'Andros, Greece',\n",
       " 'Peniche, Portugal',\n",
       " 'Bolívar, Venezuela',\n",
       " 'Algiers Province, Algeria',\n",
       " 'Rincón, Puerto Rico',\n",
       " 'Port Vila, Vanuatu',\n",
       " 'Svalbard, ',\n",
       " 'البحر الأحمر, Egypt',\n",
       " 'Saint-Louis, Senegal',\n",
       " 'Trikala, Greece',\n",
       " 'Montserrado, Liberia',\n",
       " 'Xorazm Viloyati, Uzbekistan',\n",
       " 'Šibenik-Knin County, Croatia',\n",
       " 'Tamaulipas, Mexico',\n",
       " 'Karak Governorate, Jordan',\n",
       " 'Saint George, Grenada',\n",
       " 'København NV, Denmark',\n",
       " 'Casanare, Colombia',\n",
       " 'Chang Wat Khon Kaen, Thailand',\n",
       " 'Herceg Novi Municipality, Montenegro',\n",
       " 'La Guajira, Colombia',\n",
       " 'Ilocos Region, Philippines',\n",
       " 'Îles du Vent, French Polynesia',\n",
       " 'Bihor County, Romania',\n",
       " 'Esztergom, Hungary',\n",
       " 'Tucumán, Argentina',\n",
       " 'Dar es Salam, Tanzania',\n",
       " 'Northern Cape, South Africa',\n",
       " 'Thượng Hải, China',\n",
       " 'Eastern Region, Iceland',\n",
       " 'Subarnapur, Nepal',\n",
       " 'Cuscatlán Department, El Salvador',\n",
       " 'Totonicapán Department, Guatemala',\n",
       " 'Lahti, Finland',\n",
       " 'Baunei, Italy',\n",
       " 'Dâmbovița County, Romania',\n",
       " 'Tafea Province, Vanuatu',\n",
       " 'Kampot Province, Cambodia',\n",
       " 'Kırklareli, Turkey',\n",
       " 'North Denmark Region, Denmark',\n",
       " 'Cotopaxi, Ecuador',\n",
       " 'Lima Region, Peru',\n",
       " 'Kronoberg County, Sweden',\n",
       " 'Chang Wat Lampang, Thailand',\n",
       " 'Salla, Finland',\n",
       " 'Callao Region, Peru',\n",
       " 'Bissau, Guinea-Bissau',\n",
       " 'Île-de-France, France',\n",
       " 'Kabul, Afghanistan',\n",
       " 'Hegyeshalom, Hungary',\n",
       " 'Kaliningrad Oblast, Russia',\n",
       " 'Phra Nakhon Si Ayutthaya, Thailand',\n",
       " 'Eastern Province, Sri Lanka',\n",
       " 'Lefkada, Greece',\n",
       " 'Tak, Thailand',\n",
       " 'Centre Region, Burkina Faso',\n",
       " 'Sály, Hungary',\n",
       " 'Övörkhangai, Mongolia',\n",
       " 'KwaZulu-Natal, South Africa',\n",
       " 'Vík, Iceland',\n",
       " 'Mgarr, Malta',\n",
       " 'Sister Islands, Cayman Islands',\n",
       " 'Minskaja voblasć, Belarus',\n",
       " 'Caazapá, Paraguay',\n",
       " 'Storvorde, Denmark',\n",
       " 'Județul Dâmbovița, Romania',\n",
       " 'Nordrhein-Westfalen, Germany',\n",
       " 'Bayern, Germany',\n",
       " \"Sverdlovskaya oblast', Russia\",\n",
       " 'Skåne län, Sweden',\n",
       " 'Casablanca-Settat, Morocco',\n",
       " 'Sicilia, Italy',\n",
       " '인천광역시, South Korea',\n",
       " 'Mato Grosso, Brazil',\n",
       " 'Santo Domingo, Dominican Republic',\n",
       " 'Southern Province, Zambia',\n",
       " 'Phayao, Thailand',\n",
       " 'Nevşehir, Turkey',\n",
       " 'Chuy Province, Kyrgyzstan',\n",
       " 'Chiayi County, Taiwan',\n",
       " 'Tankavaara, Finland',\n",
       " 'Loreto, Peru',\n",
       " 'Karlovac County, Croatia',\n",
       " 'Județul Iași, Romania',\n",
       " 'Durango, Mexico',\n",
       " 'Limassol, Cyprus',\n",
       " 'Gilan Province, Iran',\n",
       " 'South Governorate, Lebanon',\n",
       " 'Rivne Oblast, Ukraine',\n",
       " 'Šiaulių apskritis, Lithuania',\n",
       " 'Ponce, Puerto Rico',\n",
       " 'West Papua, Indonesia',\n",
       " 'Punjab, India',\n",
       " '北海道, Japan',\n",
       " 'Sicily, Italy',\n",
       " 'Lourinhã, Portugal',\n",
       " 'Masovian Voivodeship, Poland',\n",
       " 'Achaia, Greece',\n",
       " 'Raionul Soroca, Moldova',\n",
       " 'Samos Prefecture, Greece',\n",
       " 'Temburong District, Brunei',\n",
       " 'Respublika Buryatiya, Russia',\n",
       " 'Vanak, Iran',\n",
       " 'Santiago, Dominican Republic',\n",
       " 'Ærøskøbing, Denmark',\n",
       " \"Ma'an Governorate, Jordan\",\n",
       " 'สุราษฎร์ธานี, Thailand',\n",
       " 'Edirne, Turkey',\n",
       " 'กาญจนบุรี, Thailand',\n",
       " 'Northern Province, Sri Lanka',\n",
       " 'Rajasthan, India',\n",
       " 'Rewa, Poland',\n",
       " 'Toscana, Italy',\n",
       " 'Sarandë District, Albania',\n",
       " 'Sodankylä, Finland',\n",
       " 'Nea Kameni, Greece',\n",
       " 'Vratza, Bulgaria',\n",
       " 'Vecpiebalga parish, Latvia',\n",
       " 'Andorra la Vella, Andorra',\n",
       " 'Central Development Region, Nepal',\n",
       " 'Kyustendil, Bulgaria',\n",
       " 'Qender Theth, Albania',\n",
       " 'Opolskie, Poland',\n",
       " 'Tarija Department, Bolivia',\n",
       " 'Općina Kaštela, Croatia',\n",
       " 'Salzburg, Austria',\n",
       " 'Mayagüez, Puerto Rico',\n",
       " 'Skikda Province, Algeria',\n",
       " 'Fujairah, United Arab Emirates',\n",
       " 'Ayia Napa, Cyprus',\n",
       " 'Sofiyska oblast, Bulgaria',\n",
       " 'Guaynabo, Puerto Rico',\n",
       " 'Centre, Cameroon',\n",
       " 'Thua Thien Hue, Vietnam',\n",
       " 'Armavir Province, Armenia',\n",
       " 'Sfax, Tunisia',\n",
       " 'Cserhátsurány, Hungary',\n",
       " 'Wisconsin, United States',\n",
       " 'Mount Lebanon Governorate, Lebanon',\n",
       " 'Izola, Slovenia',\n",
       " 'Province of Nuoro, Italy',\n",
       " 'جهة سوس ماسة, Morocco',\n",
       " 'Aïn Témouchent Province, Algeria',\n",
       " 'Vâlcea County, Romania',\n",
       " 'Piemonte, Italy',\n",
       " 'State of Rio Grande do Sul, Brazil',\n",
       " 'Olomoucký kraj, Czechia',\n",
       " 'Basel-Landschaft, Switzerland',\n",
       " 'La Maddalena, Italy',\n",
       " 'ราชบุรี, Thailand',\n",
       " 'Magallanes and Chilean Antarctica, Chile',\n",
       " 'Moyen-Ogooué, Gabon',\n",
       " 'Zurich, Switzerland',\n",
       " 'Canillo, Andorra',\n",
       " 'Arcadia, Greece',\n",
       " 'Pärnu maakond, Estonia',\n",
       " 'Marche, Italy',\n",
       " 'Bulgan, Mongolia',\n",
       " 'สมุทรปราการ, Thailand',\n",
       " 'Krasnoyarsk Krai, Russia',\n",
       " 'County Dublin, Ireland',\n",
       " 'Huehuetenango Department, Guatemala',\n",
       " 'Lombardia, Italy',\n",
       " 'Krong Kaeb, Cambodia',\n",
       " '花蓮縣, Taiwan',\n",
       " 'Sarayan, Iran',\n",
       " \"Mykolaivs'ka oblast, Ukraine\",\n",
       " 'Berane Municipality, Montenegro',\n",
       " 'Malatya, Turkey',\n",
       " 'Melekeok, Palau',\n",
       " 'Ir-Rabat, Malta',\n",
       " 'Yucatan, Mexico',\n",
       " 'Lâm Đồng, Vietnam',\n",
       " 'Negeri Sembilan, Malaysia',\n",
       " 'Ljubljana, Slovenia',\n",
       " 'Kyiv City, Ukraine',\n",
       " 'Kea-Kythnos, Greece',\n",
       " 'Évora District, Portugal',\n",
       " 'Kraj Vysočina, Czechia',\n",
       " 'Da Nang, Vietnam',\n",
       " 'Styria, Austria',\n",
       " 'Troms og Finnmark fylke, Norway',\n",
       " 'Sanma Province, Vanuatu',\n",
       " 'Coimbra District, Portugal',\n",
       " 'Νότιος Τομέας Αθηνών, Greece',\n",
       " 'Greater London, United Kingdom',\n",
       " 'State of Alagoas, Brazil',\n",
       " 'Quang Nam Province, Vietnam',\n",
       " 'Mwanza Region, Tanzania',\n",
       " 'Zug, Switzerland',\n",
       " 'Barahona Province, Dominican Republic',\n",
       " 'Valletta, Malta',\n",
       " 'Viana do Castelo District, Portugal',\n",
       " 'Heredia, Costa Rica',\n",
       " 'Saint-Malo, France',\n",
       " 'Sơn La, Vietnam',\n",
       " 'Trujillo, Venezuela',\n",
       " 'Huanuco, Peru',\n",
       " 'Northern Province, Papua New Guinea',\n",
       " 'Tây Ninh Province, Vietnam',\n",
       " 'Larnaca, Cyprus',\n",
       " 'New Providence, The Bahamas',\n",
       " \"Belgorodskaya oblast', Russia\",\n",
       " 'Steiermark, Austria',\n",
       " 'Пловдив, Bulgaria',\n",
       " 'San Lawrenz, Malta',\n",
       " 'Batticaloa, Sri Lanka',\n",
       " 'Municipality of Ohrid, North Macedonia',\n",
       " 'Cascavelle, Mauritius',\n",
       " 'Tuamotus Islands, French Polynesia',\n",
       " 'Krasnodarskiy kray, Russia',\n",
       " 'Dhaka Division, Bangladesh',\n",
       " 'Colón Province, Panama',\n",
       " 'Λάρισα, Greece',\n",
       " 'Santa Rosa, Guatemala',\n",
       " 'Saare maakond, Estonia',\n",
       " 'Yazd, Iran',\n",
       " 'Ardahan, Turkey',\n",
       " 'Departamento de Colonia, Uruguay',\n",
       " 'Polillo, Philippines',\n",
       " \"Kemerovskaya oblast', Russia\",\n",
       " 'Distrito Federal, Brazil',\n",
       " 'Chang Wat Nakhon Phanom, Thailand',\n",
       " 'Boeotia, Greece',\n",
       " 'Splitsko-dalmatinska županija, Croatia',\n",
       " 'Béni Mellal-Khenifra, Morocco',\n",
       " 'Jeollabuk-do, South Korea',\n",
       " 'Uri, Switzerland',\n",
       " 'District de Luxembourg, Luxembourg',\n",
       " 'Gouvernorat de la Nouvelle-Vallée, Egypt',\n",
       " 'Cēsu pilsēta, Latvia',\n",
       " 'Milne Bay Province, Papua New Guinea',\n",
       " 'Prachuap Khiri Khan, Thailand',\n",
       " 'Zaječar District, Serbia',\n",
       " 'Tanintharyi Region, Myanmar (Burma)',\n",
       " 'Central Java, Indonesia',\n",
       " 'Eysturoy, Faroe Islands',\n",
       " 'Juana Díaz, Puerto Rico',\n",
       " 'Hradec Králové Region, Czechia',\n",
       " 'Vysočina Region, Czechia',\n",
       " 'South-Kivu, Democratic Republic of the Congo',\n",
       " 'Santa Cruz de Tenerife, Spain',\n",
       " 'Pesnica, Slovenia',\n",
       " 'เพชรบุรี, Thailand',\n",
       " 'Rethimno, Greece',\n",
       " 'Al Jahra Governorate, Kuwait',\n",
       " 'Cantabria, Spain',\n",
       " 'QROO, Mexico',\n",
       " 'South Moravian Region, Czechia',\n",
       " 'Baishan, China',\n",
       " 'Karas Region, Namibia',\n",
       " 'Neuquén, Argentina',\n",
       " 'Al Rayyan Municipality, Qatar',\n",
       " 'North Side, Cayman Islands',\n",
       " 'Groningen, Netherlands',\n",
       " 'Indiana, United States',\n",
       " 'Guaviare, Colombia',\n",
       " 'Pelkosenniemi, Finland',\n",
       " 'Cesar, Colombia',\n",
       " 'Harghita County, Romania',\n",
       " 'County Kilkenny, Ireland',\n",
       " 'Královéhradecký kraj, Czechia',\n",
       " 'São Paulo, Brazil',\n",
       " 'Buri Ram, Thailand',\n",
       " 'Republic of Karelia, Russia',\n",
       " 'Santa Fe Province, Argentina',\n",
       " 'Espoo, Finland',\n",
       " 'Thasos, Greece',\n",
       " \"Abidjan Autonomous District, Côte d'Ivoire\",\n",
       " 'Nariño, Colombia',\n",
       " 'Fianarantsoa Province, Madagascar',\n",
       " 'Chancay, Peru',\n",
       " 'Kepulauan Riau, Indonesia',\n",
       " 'Tangier, Morocco',\n",
       " 'Municipality of Prilep, North Macedonia',\n",
       " 'Aiviekstes pagasts, Latvia',\n",
       " 'Bakı, Azerbaijan',\n",
       " 'Cordillera, Paraguay',\n",
       " 'Bizkaia, Spain',\n",
       " 'Mae Hong Son, Thailand',\n",
       " 'Isfahan, Iran',\n",
       " 'Huangshan City, China',\n",
       " 'Enare, Finland',\n",
       " 'Odisha, India',\n",
       " 'Radlje ob Dravi, Slovenia',\n",
       " 'Punjab, Pakistan',\n",
       " 'Naantali, Finland',\n",
       " 'Departamento de Cortés, Honduras',\n",
       " 'Județul Gorj, Romania',\n",
       " 'Trabzon, Turkey',\n",
       " 'Khabarovsk Krai, Russia',\n",
       " 'Møre og Romsdal, Norway',\n",
       " 'Eastern, Kenya',\n",
       " 'Ondo, Nigeria',\n",
       " 'Primorskiy kray, Russia',\n",
       " 'Nyeri County, Kenya',\n",
       " 'Ioannina, Greece',\n",
       " 'Noord-Brabant, Netherlands',\n",
       " 'Semnan, Iran',\n",
       " 'Львівська область, Ukraine',\n",
       " 'Biskra Province, Algeria',\n",
       " \"Yaroslavskaya oblast', Russia\",\n",
       " 'Sucre, Venezuela',\n",
       " 'Connecticut, United States',\n",
       " 'Wilayah Persekutuan Putrajaya, Malaysia',\n",
       " 'Pyhtää, Finland',\n",
       " 'Tumbes, Peru',\n",
       " 'Leshan, China',\n",
       " 'Gros Islet, Saint Lucia',\n",
       " 'North District, Israel',\n",
       " 'Lang Tengah, Malaysia',\n",
       " 'Melaka, Malaysia',\n",
       " 'Thira, Greece',\n",
       " 'Guizhou, China',\n",
       " 'Centre-Val de Loire, France',\n",
       " 'Chuvashia Republic, Russia',\n",
       " 'Chang Wat Buri Ram, Thailand',\n",
       " 'Humacao, Puerto Rico',\n",
       " 'Irbid Governorate, Jordan',\n",
       " 'Siirt, Turkey',\n",
       " 'Lielvārdes pilsēta, Latvia',\n",
       " 'Stykki, Faroe Islands',\n",
       " 'Östergötlands län, Sweden',\n",
       " 'Falcón, Venezuela',\n",
       " 'Balatonboglár, Hungary',\n",
       " 'Gyeonggi-do, South Korea',\n",
       " 'Karpathos, Greece',\n",
       " 'Phú Yên, Vietnam',\n",
       " 'Republic of Dagestan, Russia',\n",
       " \"Lagunes District, Côte d'Ivoire\",\n",
       " 'Grande Comore, Comoros',\n",
       " \"Sums'ka oblast, Ukraine\",\n",
       " 'מחוז חיפה, Israel',\n",
       " \"Vinnyts'ka oblast, Ukraine\",\n",
       " 'Aveiro, Portugal',\n",
       " 'Ayacucho, Peru',\n",
       " 'Võru maakond, Estonia',\n",
       " 'Gdańsk, Poland',\n",
       " 'Astrakhan Oblast, Russia',\n",
       " 'Adygea Republic, Russia',\n",
       " 'Kolubara District, Serbia',\n",
       " 'Escuintla, Guatemala',\n",
       " 'Galați, Romania',\n",
       " 'Düzce, Turkey',\n",
       " 'Chai Nat, Thailand',\n",
       " 'Sliven Province, Bulgaria',\n",
       " 'Upper North Province, Maldives',\n",
       " 'Velenje, Slovenia',\n",
       " 'George Town, Cayman Islands',\n",
       " 'Gaza Province, Mozambique',\n",
       " 'Pilisszentkereszt, Hungary',\n",
       " 'Løkken, Denmark',\n",
       " 'Adıyaman, Turkey',\n",
       " 'Guantánamo, Cuba',\n",
       " 'Roskilde, Denmark',\n",
       " 'Provincia di Messina, Italy',\n",
       " 'Vaud, Switzerland',\n",
       " 'Balatonföldvár, Hungary',\n",
       " 'Osmaniye, Turkey',\n",
       " 'Tsavo, Kenya',\n",
       " 'Harju County, Estonia',\n",
       " 'Ordino, Andorra',\n",
       " 'Eastern Visayas, Philippines',\n",
       " 'St. Andrew, Saint Vincent and the Grenadines',\n",
       " 'Vinh Phuc Province, Vietnam',\n",
       " 'Ararat Province, Armenia',\n",
       " 'Sumatera Selatan, Indonesia',\n",
       " 'Chang Wat Sing Buri, Thailand',\n",
       " \"O'Higgins, Chile\",\n",
       " 'Cairo Governorate, Egypt',\n",
       " 'Smoljan, Bulgaria',\n",
       " 'Budva Municipality, Montenegro',\n",
       " 'Tasman, New Zealand',\n",
       " 'Transnistria, Moldova',\n",
       " 'उत्तर प्रदेश, India',\n",
       " 'Đắk Lắk, Vietnam',\n",
       " 'Saare County, Estonia',\n",
       " 'Newfoundland and Labrador, Canada',\n",
       " 'Umm Al Quawain, United Arab Emirates',\n",
       " 'දකුණු පළාත, Sri Lanka',\n",
       " 'Saint-Louis Region, Senegal',\n",
       " 'Skovshoved, Denmark',\n",
       " 'Niigata, Japan',\n",
       " 'Heraklion, Greece',\n",
       " 'Bali, Indonesia',\n",
       " 'Comunidad de Madrid, Spain',\n",
       " 'Province of Sassari, Italy',\n",
       " 'Sa Kaeo, Thailand',\n",
       " 'Savanne, Mauritius',\n",
       " 'Haiphong, Vietnam',\n",
       " 'Grindavík, Iceland',\n",
       " 'Ísafjörður, Iceland',\n",
       " 'Suphan Buri, Thailand',\n",
       " 'Kayseri, Turkey',\n",
       " 'Sarawak, Malaysia',\n",
       " 'Hévíz, Hungary',\n",
       " 'Lagos, Nigeria',\n",
       " 'Prešov Region, Slovakia',\n",
       " 'Kigali City, Rwanda',\n",
       " 'Yala, Thailand',\n",
       " 'Esmeraldas, Ecuador',\n",
       " 'State of Rio de Janeiro, Brazil',\n",
       " 'พังงา, Thailand',\n",
       " 'Administrative unit Maribor, Slovenia',\n",
       " 'Peel, ',\n",
       " 'Koprivničko-križevačka županija, Croatia',\n",
       " 'Luzern, Switzerland',\n",
       " 'Chang Wat Nan, Thailand',\n",
       " 'Pieria, Greece',\n",
       " 'Rusizi, Rwanda',\n",
       " 'Olomouc Region, Czechia',\n",
       " 'Norrbottens län, Sweden',\n",
       " 'Inagua, The Bahamas',\n",
       " 'Sancti Spiritus, Cuba',\n",
       " 'South Kalimantan, Indonesia',\n",
       " 'Vaasa, Finland',\n",
       " 'Bumthang, Bhutan',\n",
       " 'María Trinidad Sánchez, Dominican Republic',\n",
       " 'Inari, Finland',\n",
       " \"Ulyanovskaya oblast', Russia\",\n",
       " 'Saltum, Denmark',\n",
       " 'Moskovskiy, Russia',\n",
       " 'Puerto Plata, Dominican Republic',\n",
       " 'Sikkim, India',\n",
       " 'Kien Giang, Vietnam',\n",
       " 'Județul Cluj, Romania',\n",
       " 'Delaware, United States',\n",
       " 'Central Visayas, Philippines',\n",
       " 'Chang Wat Ang Thong, Thailand',\n",
       " 'Argyll and Bute Council, United Kingdom',\n",
       " 'Reykholt, Iceland',\n",
       " 'Lambayeque, Peru',\n",
       " 'Herat, Afghanistan',\n",
       " 'Novosibirsk Oblast, Russia',\n",
       " '長野県, Japan',\n",
       " 'Saint Mark, Grenada',\n",
       " 'Bachkirie, Russia',\n",
       " \"Kirovskaya oblast', Russia\",\n",
       " 'Pingtung County, Taiwan',\n",
       " 'Maine, United States',\n",
       " ...}"
      ]
     },
     "execution_count": 7,
     "metadata": {},
     "output_type": "execute_result"
    }
   ],
   "source": [
    "set(df.location)"
   ]
  },
  {
   "cell_type": "code",
   "execution_count": 43,
   "metadata": {},
   "outputs": [],
   "source": [
    "with open('poi2id.json', 'w', encoding='utf-8') as f:\n",
    "    json.dump(poi2id, f)\n",
    "with open('id2poi.json', 'w', encoding='utf-8') as f:\n",
    "    json.dump(id2poi, f)"
   ]
  },
  {
   "cell_type": "markdown",
   "metadata": {},
   "source": [
    "### Train"
   ]
  },
  {
   "cell_type": "code",
   "execution_count": 163,
   "metadata": {},
   "outputs": [],
   "source": [
    "def train_lstm(name):\n",
    "    EMBEDDING_MATRIX = np.loadtxt('lstm_weights/{}.txt'.format(name))\n",
    "    network = LSTMLoop(poi_num, EMBEDDING_DIM, LSTM_NUM_UNITS, EMBEDDING_MATRIX)\n",
    "    opt = torch.optim.Adam(filter(lambda p: p.requires_grad, network.parameters()))\n",
    "    history = []\n",
    "    print('Training')\n",
    "    for epoch in range(EPOCHS):\n",
    "\n",
    "        network.train(True)\n",
    "        train_loss=0\n",
    "        for _ in range(BATCHES_PER_EPOCH):\n",
    "\n",
    "            batch_context = as_matrix(np.random.choice(train_context, BATCH_SIZE, replace=False))\n",
    "            batch_context = Variable(torch.LongTensor(batch_context))\n",
    "            loss_t = compute_loss(network, batch_context)\n",
    "\n",
    "            opt.zero_grad()\n",
    "            loss_t.backward()\n",
    "            opt.step()\n",
    "\n",
    "            train_loss += loss_t.detach().numpy()\n",
    "\n",
    "        train_loss /= BATCHES_PER_EPOCH\n",
    "\n",
    "        print('\\nEpoch: {}, train loss: {}'.format(epoch + 1, train_loss))\n",
    "\n",
    "    PATH = 'lstm_weights/{}.pt'.format(name)\n",
    "    torch.save(network.state_dict(), PATH)\n",
    "\n",
    "    auc_roc = auc_roc_score(network, test_context)\n",
    "    recall_1 = recall_k(network, test_context, 1)\n",
    "    recall_5 = recall_k(network, test_context, 5)\n",
    "    recall_10 = recall_k(network, test_context, 10)\n",
    "    print('{}: auc {}, r1 {}, r5 {}, r10 {}'.format(name, auc_roc, recall_1, recall_5, recall_10))\n",
    "    metrics_dict = {}\n",
    "    with open('metrics/metrics_dict.json', 'r') as f:\n",
    "        metrics_dict = json.load(f)\n",
    "    metrics = {\n",
    "        'auc_roc': auc_roc,\n",
    "        'recall_1': recall_1,\n",
    "        'recall_5': recall_5,\n",
    "        'recall_10': recall_10\n",
    "    }\n",
    "    metrics_dict[name] = metrics\n",
    "    with open('metrics/metrics_dict.json', 'w') as f:\n",
    "        json.dump(metrics_dict, f)"
   ]
  },
  {
   "cell_type": "code",
   "execution_count": 209,
   "metadata": {
    "scrolled": true
   },
   "outputs": [
    {
     "name": "stdout",
     "output_type": "stream",
     "text": [
      "Training\n",
      "\n",
      "Epoch: 1, train loss: 6.405007619857788\n",
      "\n",
      "Epoch: 2, train loss: 5.484228982925415\n",
      "\n",
      "Epoch: 3, train loss: 4.861488456726074\n",
      "\n",
      "Epoch: 4, train loss: 4.40307044506073\n",
      "\n",
      "Epoch: 5, train loss: 4.001579456329345\n",
      "\n",
      "Epoch: 6, train loss: 3.8240658712387083\n",
      "\n",
      "Epoch: 7, train loss: 3.65837863445282\n",
      "\n",
      "Epoch: 8, train loss: 3.5083879137039187\n",
      "\n",
      "Epoch: 9, train loss: 3.3690894508361815\n",
      "\n",
      "Epoch: 10, train loss: 3.261073851585388\n",
      "\n",
      "Epoch: 11, train loss: 3.209342555999756\n",
      "\n",
      "Epoch: 12, train loss: 3.104484648704529\n",
      "\n",
      "Epoch: 13, train loss: 3.0895191192626954\n",
      "\n",
      "Epoch: 14, train loss: 2.9924545431137086\n",
      "\n",
      "Epoch: 15, train loss: 2.9394746160507204\n",
      "\n",
      "Epoch: 16, train loss: 2.8551569509506227\n",
      "\n",
      "Epoch: 17, train loss: 2.8481203365325927\n",
      "\n",
      "Epoch: 18, train loss: 2.770122184753418\n",
      "\n",
      "Epoch: 19, train loss: 2.75560498714447\n",
      "\n",
      "Epoch: 20, train loss: 2.6809140396118165\n",
      "\n",
      "Epoch: 21, train loss: 2.649260959625244\n",
      "\n",
      "Epoch: 22, train loss: 2.633498830795288\n",
      "\n",
      "Epoch: 23, train loss: 2.5685103607177733\n",
      "\n",
      "Epoch: 24, train loss: 2.5403325176239013\n",
      "\n",
      "Epoch: 25, train loss: 2.4550404787063598\n",
      "\n",
      "Epoch: 26, train loss: 2.4695083808898928\n",
      "\n",
      "Epoch: 27, train loss: 2.403027811050415\n",
      "\n",
      "Epoch: 28, train loss: 2.339289753437042\n",
      "\n",
      "Epoch: 29, train loss: 2.284183051586151\n",
      "\n",
      "Epoch: 30, train loss: 2.238645989894867\n",
      "\n",
      "Epoch: 31, train loss: 2.194083251953125\n",
      "\n",
      "Epoch: 32, train loss: 2.1721036219596863\n",
      "\n",
      "Epoch: 33, train loss: 2.1387110567092895\n",
      "\n",
      "Epoch: 34, train loss: 2.1012203216552736\n",
      "\n",
      "Epoch: 35, train loss: 2.05765510559082\n",
      "\n",
      "Epoch: 36, train loss: 1.9925681281089782\n",
      "\n",
      "Epoch: 37, train loss: 2.0004863047599795\n",
      "\n",
      "Epoch: 38, train loss: 1.960079939365387\n",
      "\n",
      "Epoch: 39, train loss: 1.8874162697792054\n",
      "\n",
      "Epoch: 40, train loss: 1.8818085026741027\n",
      "\n",
      "Epoch: 41, train loss: 1.8346407365798951\n",
      "\n",
      "Epoch: 42, train loss: 1.794601480960846\n",
      "\n",
      "Epoch: 43, train loss: 1.7799882340431212\n",
      "\n",
      "Epoch: 44, train loss: 1.7692723155021668\n",
      "\n",
      "Epoch: 45, train loss: 1.718850622177124\n",
      "\n",
      "Epoch: 46, train loss: 1.6590464425086975\n",
      "\n",
      "Epoch: 47, train loss: 1.6460042333602904\n",
      "\n",
      "Epoch: 48, train loss: 1.6196043467521668\n",
      "\n",
      "Epoch: 49, train loss: 1.6157821941375732\n"
     ]
    },
    {
     "name": "stderr",
     "output_type": "stream",
     "text": [
      "  0%|▎                                                                             | 34/10027 [00:00<00:29, 333.52it/s]"
     ]
    },
    {
     "name": "stdout",
     "output_type": "stream",
     "text": [
      "\n",
      "Epoch: 50, train loss: 1.5953874397277832\n"
     ]
    },
    {
     "name": "stderr",
     "output_type": "stream",
     "text": [
      "100%|███████████████████████████████████████████████████████████████████████████| 10027/10027 [00:23<00:00, 430.22it/s]\n",
      "100%|███████████████████████████████████████████████████████████████████████████| 10027/10027 [00:20<00:00, 481.61it/s]\n",
      "100%|███████████████████████████████████████████████████████████████████████████| 10027/10027 [00:20<00:00, 491.76it/s]\n",
      "100%|███████████████████████████████████████████████████████████████████████████| 10027/10027 [00:20<00:00, 496.70it/s]"
     ]
    },
    {
     "name": "stdout",
     "output_type": "stream",
     "text": [
      "a_0.4_b_0.8_new: auc 0.9382732897904816, r1 0.2807419966091553, r5 0.4879824473920415, r10 0.5637777999401615\n"
     ]
    },
    {
     "name": "stderr",
     "output_type": "stream",
     "text": [
      "\n"
     ]
    }
   ],
   "source": [
    "name = 'a_0.4_b_0.4_new'\n",
    "train_lstm(name)"
   ]
  },
  {
   "cell_type": "code",
   "execution_count": 118,
   "metadata": {},
   "outputs": [],
   "source": [
    "name = 'a_0.4_b_1.2'\n",
    "EMBEDDING_MATRIX = np.loadtxt('lstm_weights/{}.txt'.format(name))"
   ]
  },
  {
   "cell_type": "code",
   "execution_count": null,
   "metadata": {},
   "outputs": [],
   "source": []
  },
  {
   "cell_type": "code",
   "execution_count": null,
   "metadata": {},
   "outputs": [],
   "source": []
  },
  {
   "cell_type": "code",
   "execution_count": null,
   "metadata": {},
   "outputs": [],
   "source": []
  },
  {
   "cell_type": "code",
   "execution_count": null,
   "metadata": {},
   "outputs": [],
   "source": []
  },
  {
   "cell_type": "code",
   "execution_count": null,
   "metadata": {},
   "outputs": [],
   "source": []
  },
  {
   "cell_type": "code",
   "execution_count": 119,
   "metadata": {},
   "outputs": [],
   "source": [
    "network = LSTMLoop(poi_num, EMBEDDING_DIM, LSTM_NUM_UNITS, EMBEDDING_MATRIX)\n",
    "opt = torch.optim.Adam(filter(lambda p: p.requires_grad, network.parameters()))\n",
    "history = []"
   ]
  },
  {
   "cell_type": "code",
   "execution_count": 120,
   "metadata": {
    "scrolled": true
   },
   "outputs": [
    {
     "name": "stderr",
     "output_type": "stream",
     "text": [
      "100%|██████████████████████████████████████████████████████████████████████████████████| 50/50 [00:07<00:00,  6.42it/s]\n",
      "  2%|█▋                                                                                 | 1/50 [00:00<00:07,  6.67it/s]"
     ]
    },
    {
     "name": "stdout",
     "output_type": "stream",
     "text": [
      "\n",
      "Epoch: 1, train loss: 6.83678936958313\n"
     ]
    },
    {
     "name": "stderr",
     "output_type": "stream",
     "text": [
      "100%|██████████████████████████████████████████████████████████████████████████████████| 50/50 [00:07<00:00,  6.71it/s]\n",
      "  2%|█▋                                                                                 | 1/50 [00:00<00:06,  8.00it/s]"
     ]
    },
    {
     "name": "stdout",
     "output_type": "stream",
     "text": [
      "\n",
      "Epoch: 2, train loss: 5.953783292770385\n"
     ]
    },
    {
     "name": "stderr",
     "output_type": "stream",
     "text": [
      "100%|██████████████████████████████████████████████████████████████████████████████████| 50/50 [00:07<00:00,  6.74it/s]\n",
      "  2%|█▋                                                                                 | 1/50 [00:00<00:05,  8.27it/s]"
     ]
    },
    {
     "name": "stdout",
     "output_type": "stream",
     "text": [
      "\n",
      "Epoch: 3, train loss: 5.469306602478027\n"
     ]
    },
    {
     "name": "stderr",
     "output_type": "stream",
     "text": [
      "100%|██████████████████████████████████████████████████████████████████████████████████| 50/50 [00:07<00:00,  6.57it/s]\n",
      "  2%|█▋                                                                                 | 1/50 [00:00<00:08,  5.62it/s]"
     ]
    },
    {
     "name": "stdout",
     "output_type": "stream",
     "text": [
      "\n",
      "Epoch: 4, train loss: 4.8895785427093506\n"
     ]
    },
    {
     "name": "stderr",
     "output_type": "stream",
     "text": [
      "100%|██████████████████████████████████████████████████████████████████████████████████| 50/50 [00:07<00:00,  6.69it/s]\n",
      "  2%|█▋                                                                                 | 1/50 [00:00<00:06,  7.94it/s]"
     ]
    },
    {
     "name": "stdout",
     "output_type": "stream",
     "text": [
      "\n",
      "Epoch: 5, train loss: 4.615852427482605\n"
     ]
    },
    {
     "name": "stderr",
     "output_type": "stream",
     "text": [
      "100%|██████████████████████████████████████████████████████████████████████████████████| 50/50 [00:07<00:00,  6.57it/s]\n",
      "  2%|█▋                                                                                 | 1/50 [00:00<00:06,  7.20it/s]"
     ]
    },
    {
     "name": "stdout",
     "output_type": "stream",
     "text": [
      "\n",
      "Epoch: 6, train loss: 4.357277755737305\n"
     ]
    },
    {
     "name": "stderr",
     "output_type": "stream",
     "text": [
      "100%|██████████████████████████████████████████████████████████████████████████████████| 50/50 [00:07<00:00,  6.64it/s]\n",
      "  2%|█▋                                                                                 | 1/50 [00:00<00:06,  7.70it/s]"
     ]
    },
    {
     "name": "stdout",
     "output_type": "stream",
     "text": [
      "\n",
      "Epoch: 7, train loss: 4.222148742675781\n"
     ]
    },
    {
     "name": "stderr",
     "output_type": "stream",
     "text": [
      "100%|██████████████████████████████████████████████████████████████████████████████████| 50/50 [00:06<00:00,  7.30it/s]\n",
      "  2%|█▋                                                                                 | 1/50 [00:00<00:07,  6.85it/s]"
     ]
    },
    {
     "name": "stdout",
     "output_type": "stream",
     "text": [
      "\n",
      "Epoch: 8, train loss: 4.047121248245239\n"
     ]
    },
    {
     "name": "stderr",
     "output_type": "stream",
     "text": [
      "100%|██████████████████████████████████████████████████████████████████████████████████| 50/50 [00:07<00:00,  7.00it/s]\n",
      "  2%|█▋                                                                                 | 1/50 [00:00<00:07,  6.81it/s]"
     ]
    },
    {
     "name": "stdout",
     "output_type": "stream",
     "text": [
      "\n",
      "Epoch: 9, train loss: 3.913764443397522\n"
     ]
    },
    {
     "name": "stderr",
     "output_type": "stream",
     "text": [
      "100%|██████████████████████████████████████████████████████████████████████████████████| 50/50 [00:07<00:00,  6.54it/s]\n",
      "  2%|█▋                                                                                 | 1/50 [00:00<00:07,  6.63it/s]"
     ]
    },
    {
     "name": "stdout",
     "output_type": "stream",
     "text": [
      "\n",
      "Epoch: 10, train loss: 3.7702778673171995\n"
     ]
    },
    {
     "name": "stderr",
     "output_type": "stream",
     "text": [
      "100%|██████████████████████████████████████████████████████████████████████████████████| 50/50 [00:08<00:00,  5.58it/s]\n",
      "  0%|                                                                                           | 0/50 [00:00<?, ?it/s]"
     ]
    },
    {
     "name": "stdout",
     "output_type": "stream",
     "text": [
      "\n",
      "Epoch: 11, train loss: 3.7423292922973634\n"
     ]
    },
    {
     "name": "stderr",
     "output_type": "stream",
     "text": [
      "100%|██████████████████████████████████████████████████████████████████████████████████| 50/50 [00:08<00:00,  6.22it/s]\n",
      "  2%|█▋                                                                                 | 1/50 [00:00<00:07,  6.37it/s]"
     ]
    },
    {
     "name": "stdout",
     "output_type": "stream",
     "text": [
      "\n",
      "Epoch: 12, train loss: 3.593791356086731\n"
     ]
    },
    {
     "name": "stderr",
     "output_type": "stream",
     "text": [
      "100%|██████████████████████████████████████████████████████████████████████████████████| 50/50 [00:08<00:00,  5.61it/s]\n",
      "  2%|█▋                                                                                 | 1/50 [00:00<00:06,  7.20it/s]"
     ]
    },
    {
     "name": "stdout",
     "output_type": "stream",
     "text": [
      "\n",
      "Epoch: 13, train loss: 3.5436779069900513\n"
     ]
    },
    {
     "name": "stderr",
     "output_type": "stream",
     "text": [
      "100%|██████████████████████████████████████████████████████████████████████████████████| 50/50 [00:08<00:00,  5.98it/s]\n",
      "  2%|█▋                                                                                 | 1/50 [00:00<00:08,  5.89it/s]"
     ]
    },
    {
     "name": "stdout",
     "output_type": "stream",
     "text": [
      "\n",
      "Epoch: 14, train loss: 3.4477629375457766\n"
     ]
    },
    {
     "name": "stderr",
     "output_type": "stream",
     "text": [
      "100%|██████████████████████████████████████████████████████████████████████████████████| 50/50 [00:07<00:00,  6.38it/s]\n",
      "  2%|█▋                                                                                 | 1/50 [00:00<00:06,  7.20it/s]"
     ]
    },
    {
     "name": "stdout",
     "output_type": "stream",
     "text": [
      "\n",
      "Epoch: 15, train loss: 3.283995342254639\n"
     ]
    },
    {
     "name": "stderr",
     "output_type": "stream",
     "text": [
      "100%|██████████████████████████████████████████████████████████████████████████████████| 50/50 [00:07<00:00,  6.29it/s]\n",
      "  2%|█▋                                                                                 | 1/50 [00:00<00:07,  6.58it/s]"
     ]
    },
    {
     "name": "stdout",
     "output_type": "stream",
     "text": [
      "\n",
      "Epoch: 16, train loss: 3.398623046875\n"
     ]
    },
    {
     "name": "stderr",
     "output_type": "stream",
     "text": [
      "100%|██████████████████████████████████████████████████████████████████████████████████| 50/50 [00:07<00:00,  6.33it/s]\n",
      "  2%|█▋                                                                                 | 1/50 [00:00<00:08,  6.10it/s]"
     ]
    },
    {
     "name": "stdout",
     "output_type": "stream",
     "text": [
      "\n",
      "Epoch: 17, train loss: 3.1975084829330442\n"
     ]
    },
    {
     "name": "stderr",
     "output_type": "stream",
     "text": [
      "100%|██████████████████████████████████████████████████████████████████████████████████| 50/50 [00:07<00:00,  6.26it/s]\n",
      "  2%|█▋                                                                                 | 1/50 [00:00<00:07,  6.21it/s]"
     ]
    },
    {
     "name": "stdout",
     "output_type": "stream",
     "text": [
      "\n",
      "Epoch: 18, train loss: 3.262019567489624\n"
     ]
    },
    {
     "name": "stderr",
     "output_type": "stream",
     "text": [
      "100%|██████████████████████████████████████████████████████████████████████████████████| 50/50 [00:08<00:00,  6.04it/s]\n",
      "  2%|█▋                                                                                 | 1/50 [00:00<00:07,  6.29it/s]"
     ]
    },
    {
     "name": "stdout",
     "output_type": "stream",
     "text": [
      "\n",
      "Epoch: 19, train loss: 3.175481610298157\n"
     ]
    },
    {
     "name": "stderr",
     "output_type": "stream",
     "text": [
      "100%|██████████████████████████████████████████████████████████████████████████████████| 50/50 [00:08<00:00,  5.98it/s]\n",
      "  2%|█▋                                                                                 | 1/50 [00:00<00:08,  5.47it/s]"
     ]
    },
    {
     "name": "stdout",
     "output_type": "stream",
     "text": [
      "\n",
      "Epoch: 20, train loss: 3.1348003005981444\n"
     ]
    },
    {
     "name": "stderr",
     "output_type": "stream",
     "text": [
      "100%|██████████████████████████████████████████████████████████████████████████████████| 50/50 [00:08<00:00,  6.23it/s]\n",
      "  2%|█▋                                                                                 | 1/50 [00:00<00:09,  5.08it/s]"
     ]
    },
    {
     "name": "stdout",
     "output_type": "stream",
     "text": [
      "\n",
      "Epoch: 21, train loss: 3.0834314966201783\n"
     ]
    },
    {
     "name": "stderr",
     "output_type": "stream",
     "text": [
      "100%|██████████████████████████████████████████████████████████████████████████████████| 50/50 [00:09<00:00,  5.55it/s]\n",
      "  2%|█▋                                                                                 | 1/50 [00:00<00:06,  7.41it/s]"
     ]
    },
    {
     "name": "stdout",
     "output_type": "stream",
     "text": [
      "\n",
      "Epoch: 22, train loss: 3.0398077630996703\n"
     ]
    },
    {
     "name": "stderr",
     "output_type": "stream",
     "text": [
      "100%|██████████████████████████████████████████████████████████████████████████████████| 50/50 [00:09<00:00,  5.45it/s]\n",
      "  0%|                                                                                           | 0/50 [00:00<?, ?it/s]"
     ]
    },
    {
     "name": "stdout",
     "output_type": "stream",
     "text": [
      "\n",
      "Epoch: 23, train loss: 2.9893260908126833\n"
     ]
    },
    {
     "name": "stderr",
     "output_type": "stream",
     "text": [
      "100%|██████████████████████████████████████████████████████████████████████████████████| 50/50 [00:08<00:00,  5.59it/s]\n",
      "  2%|█▋                                                                                 | 1/50 [00:00<00:09,  5.03it/s]"
     ]
    },
    {
     "name": "stdout",
     "output_type": "stream",
     "text": [
      "\n",
      "Epoch: 24, train loss: 2.9462453079223634\n"
     ]
    },
    {
     "name": "stderr",
     "output_type": "stream",
     "text": [
      "100%|██████████████████████████████████████████████████████████████████████████████████| 50/50 [00:08<00:00,  6.15it/s]\n",
      "  2%|█▋                                                                                 | 1/50 [00:00<00:07,  6.95it/s]"
     ]
    },
    {
     "name": "stdout",
     "output_type": "stream",
     "text": [
      "\n",
      "Epoch: 25, train loss: 2.9064724397659303\n"
     ]
    },
    {
     "name": "stderr",
     "output_type": "stream",
     "text": [
      "100%|██████████████████████████████████████████████████████████████████████████████████| 50/50 [00:08<00:00,  5.78it/s]\n",
      "  2%|█▋                                                                                 | 1/50 [00:00<00:07,  6.91it/s]"
     ]
    },
    {
     "name": "stdout",
     "output_type": "stream",
     "text": [
      "\n",
      "Epoch: 26, train loss: 2.902254595756531\n"
     ]
    },
    {
     "name": "stderr",
     "output_type": "stream",
     "text": [
      "100%|██████████████████████████████████████████████████████████████████████████████████| 50/50 [00:08<00:00,  6.19it/s]\n",
      "  2%|█▋                                                                                 | 1/50 [00:00<00:08,  5.48it/s]"
     ]
    },
    {
     "name": "stdout",
     "output_type": "stream",
     "text": [
      "\n",
      "Epoch: 27, train loss: 2.84036997795105\n"
     ]
    },
    {
     "name": "stderr",
     "output_type": "stream",
     "text": [
      "100%|██████████████████████████████████████████████████████████████████████████████████| 50/50 [00:08<00:00,  5.87it/s]\n",
      "  0%|                                                                                           | 0/50 [00:00<?, ?it/s]"
     ]
    },
    {
     "name": "stdout",
     "output_type": "stream",
     "text": [
      "\n",
      "Epoch: 28, train loss: 2.823073048591614\n"
     ]
    },
    {
     "name": "stderr",
     "output_type": "stream",
     "text": [
      "100%|██████████████████████████████████████████████████████████████████████████████████| 50/50 [00:07<00:00,  6.42it/s]\n",
      "  2%|█▋                                                                                 | 1/50 [00:00<00:07,  6.71it/s]"
     ]
    },
    {
     "name": "stdout",
     "output_type": "stream",
     "text": [
      "\n",
      "Epoch: 29, train loss: 2.7626512241363526\n"
     ]
    },
    {
     "name": "stderr",
     "output_type": "stream",
     "text": [
      "100%|██████████████████████████████████████████████████████████████████████████████████| 50/50 [00:08<00:00,  5.89it/s]\n",
      "  0%|                                                                                           | 0/50 [00:00<?, ?it/s]"
     ]
    },
    {
     "name": "stdout",
     "output_type": "stream",
     "text": [
      "\n",
      "Epoch: 30, train loss: 2.736831374168396\n"
     ]
    },
    {
     "name": "stderr",
     "output_type": "stream",
     "text": [
      "100%|██████████████████████████████████████████████████████████████████████████████████| 50/50 [00:07<00:00,  6.58it/s]\n",
      "  2%|█▋                                                                                 | 1/50 [00:00<00:07,  6.18it/s]"
     ]
    },
    {
     "name": "stdout",
     "output_type": "stream",
     "text": [
      "\n",
      "Epoch: 31, train loss: 2.7612360763549804\n"
     ]
    },
    {
     "name": "stderr",
     "output_type": "stream",
     "text": [
      "100%|██████████████████████████████████████████████████████████████████████████████████| 50/50 [00:08<00:00,  6.14it/s]\n",
      "  0%|                                                                                           | 0/50 [00:00<?, ?it/s]"
     ]
    },
    {
     "name": "stdout",
     "output_type": "stream",
     "text": [
      "\n",
      "Epoch: 32, train loss: 2.7028274393081664\n"
     ]
    },
    {
     "name": "stderr",
     "output_type": "stream",
     "text": [
      "100%|██████████████████████████████████████████████████████████████████████████████████| 50/50 [00:08<00:00,  5.93it/s]\n",
      "  2%|█▋                                                                                 | 1/50 [00:00<00:07,  6.41it/s]"
     ]
    },
    {
     "name": "stdout",
     "output_type": "stream",
     "text": [
      "\n",
      "Epoch: 33, train loss: 2.652384920120239\n"
     ]
    },
    {
     "name": "stderr",
     "output_type": "stream",
     "text": [
      "100%|██████████████████████████████████████████████████████████████████████████████████| 50/50 [00:08<00:00,  5.98it/s]\n",
      "  0%|                                                                                           | 0/50 [00:00<?, ?it/s]"
     ]
    },
    {
     "name": "stdout",
     "output_type": "stream",
     "text": [
      "\n",
      "Epoch: 34, train loss: 2.616148190498352\n"
     ]
    },
    {
     "name": "stderr",
     "output_type": "stream",
     "text": [
      "100%|██████████████████████████████████████████████████████████████████████████████████| 50/50 [00:08<00:00,  5.92it/s]\n",
      "  2%|█▋                                                                                 | 1/50 [00:00<00:08,  5.72it/s]"
     ]
    },
    {
     "name": "stdout",
     "output_type": "stream",
     "text": [
      "\n",
      "Epoch: 35, train loss: 2.628565721511841\n"
     ]
    },
    {
     "name": "stderr",
     "output_type": "stream",
     "text": [
      "100%|██████████████████████████████████████████████████████████████████████████████████| 50/50 [00:07<00:00,  6.40it/s]\n",
      "  2%|█▋                                                                                 | 1/50 [00:00<00:07,  6.18it/s]"
     ]
    },
    {
     "name": "stdout",
     "output_type": "stream",
     "text": [
      "\n",
      "Epoch: 36, train loss: 2.6149716997146606\n"
     ]
    },
    {
     "name": "stderr",
     "output_type": "stream",
     "text": [
      "100%|██████████████████████████████████████████████████████████████████████████████████| 50/50 [00:08<00:00,  5.84it/s]\n",
      "  2%|█▋                                                                                 | 1/50 [00:00<00:07,  6.41it/s]"
     ]
    },
    {
     "name": "stdout",
     "output_type": "stream",
     "text": [
      "\n",
      "Epoch: 37, train loss: 2.504119381904602\n"
     ]
    },
    {
     "name": "stderr",
     "output_type": "stream",
     "text": [
      "100%|██████████████████████████████████████████████████████████████████████████████████| 50/50 [00:08<00:00,  5.93it/s]\n",
      "  2%|█▋                                                                                 | 1/50 [00:00<00:07,  6.46it/s]"
     ]
    },
    {
     "name": "stdout",
     "output_type": "stream",
     "text": [
      "\n",
      "Epoch: 38, train loss: 2.514626123905182\n"
     ]
    },
    {
     "name": "stderr",
     "output_type": "stream",
     "text": [
      "100%|██████████████████████████████████████████████████████████████████████████████████| 50/50 [00:08<00:00,  6.10it/s]\n",
      "  2%|█▋                                                                                 | 1/50 [00:00<00:08,  5.82it/s]"
     ]
    },
    {
     "name": "stdout",
     "output_type": "stream",
     "text": [
      "\n",
      "Epoch: 39, train loss: 2.444736247062683\n"
     ]
    },
    {
     "name": "stderr",
     "output_type": "stream",
     "text": [
      "100%|██████████████████████████████████████████████████████████████████████████████████| 50/50 [00:07<00:00,  6.28it/s]\n",
      "  2%|█▋                                                                                 | 1/50 [00:00<00:06,  7.41it/s]"
     ]
    },
    {
     "name": "stdout",
     "output_type": "stream",
     "text": [
      "\n",
      "Epoch: 40, train loss: 2.4473953151702883\n"
     ]
    },
    {
     "name": "stderr",
     "output_type": "stream",
     "text": [
      "100%|██████████████████████████████████████████████████████████████████████████████████| 50/50 [00:07<00:00,  6.35it/s]\n",
      "  2%|█▋                                                                                 | 1/50 [00:00<00:06,  7.47it/s]"
     ]
    },
    {
     "name": "stdout",
     "output_type": "stream",
     "text": [
      "\n",
      "Epoch: 41, train loss: 2.387512040138245\n"
     ]
    },
    {
     "name": "stderr",
     "output_type": "stream",
     "text": [
      "100%|██████████████████████████████████████████████████████████████████████████████████| 50/50 [00:08<00:00,  6.12it/s]\n",
      "  2%|█▋                                                                                 | 1/50 [00:00<00:06,  7.52it/s]"
     ]
    },
    {
     "name": "stdout",
     "output_type": "stream",
     "text": [
      "\n",
      "Epoch: 42, train loss: 2.380930495262146\n"
     ]
    },
    {
     "name": "stderr",
     "output_type": "stream",
     "text": [
      "100%|██████████████████████████████████████████████████████████████████████████████████| 50/50 [00:08<00:00,  6.14it/s]\n",
      "  2%|█▋                                                                                 | 1/50 [00:00<00:08,  6.03it/s]"
     ]
    },
    {
     "name": "stdout",
     "output_type": "stream",
     "text": [
      "\n",
      "Epoch: 43, train loss: 2.3369769620895386\n"
     ]
    },
    {
     "name": "stderr",
     "output_type": "stream",
     "text": [
      "100%|██████████████████████████████████████████████████████████████████████████████████| 50/50 [00:08<00:00,  5.85it/s]\n",
      "  2%|█▋                                                                                 | 1/50 [00:00<00:06,  7.15it/s]"
     ]
    },
    {
     "name": "stdout",
     "output_type": "stream",
     "text": [
      "\n",
      "Epoch: 44, train loss: 2.2998995685577395\n"
     ]
    },
    {
     "name": "stderr",
     "output_type": "stream",
     "text": [
      "100%|██████████████████████████████████████████████████████████████████████████████████| 50/50 [00:08<00:00,  6.11it/s]\n",
      "  2%|█▋                                                                                 | 1/50 [00:00<00:07,  6.52it/s]"
     ]
    },
    {
     "name": "stdout",
     "output_type": "stream",
     "text": [
      "\n",
      "Epoch: 45, train loss: 2.2875636172294618\n"
     ]
    },
    {
     "name": "stderr",
     "output_type": "stream",
     "text": [
      "100%|██████████████████████████████████████████████████████████████████████████████████| 50/50 [00:08<00:00,  5.94it/s]\n",
      "  2%|█▋                                                                                 | 1/50 [00:00<00:08,  5.50it/s]"
     ]
    },
    {
     "name": "stdout",
     "output_type": "stream",
     "text": [
      "\n",
      "Epoch: 46, train loss: 2.240254530906677\n"
     ]
    },
    {
     "name": "stderr",
     "output_type": "stream",
     "text": [
      "100%|██████████████████████████████████████████████████████████████████████████████████| 50/50 [00:08<00:00,  6.00it/s]\n",
      "  2%|█▋                                                                                 | 1/50 [00:00<00:08,  6.03it/s]"
     ]
    },
    {
     "name": "stdout",
     "output_type": "stream",
     "text": [
      "\n",
      "Epoch: 47, train loss: 2.182694492340088\n"
     ]
    },
    {
     "name": "stderr",
     "output_type": "stream",
     "text": [
      "100%|██████████████████████████████████████████████████████████████████████████████████| 50/50 [00:08<00:00,  6.07it/s]\n",
      "  2%|█▋                                                                                 | 1/50 [00:00<00:07,  6.68it/s]"
     ]
    },
    {
     "name": "stdout",
     "output_type": "stream",
     "text": [
      "\n",
      "Epoch: 48, train loss: 2.1639738726615905\n"
     ]
    },
    {
     "name": "stderr",
     "output_type": "stream",
     "text": [
      "100%|██████████████████████████████████████████████████████████████████████████████████| 50/50 [00:08<00:00,  5.71it/s]\n",
      "  2%|█▋                                                                                 | 1/50 [00:00<00:06,  7.30it/s]"
     ]
    },
    {
     "name": "stdout",
     "output_type": "stream",
     "text": [
      "\n",
      "Epoch: 49, train loss: 2.141031150817871\n"
     ]
    },
    {
     "name": "stderr",
     "output_type": "stream",
     "text": [
      "100%|██████████████████████████████████████████████████████████████████████████████████| 50/50 [00:08<00:00,  6.12it/s]"
     ]
    },
    {
     "name": "stdout",
     "output_type": "stream",
     "text": [
      "\n",
      "Epoch: 50, train loss: 2.1580838537216187\n",
      "Finished!\n"
     ]
    },
    {
     "name": "stderr",
     "output_type": "stream",
     "text": [
      "\n"
     ]
    }
   ],
   "source": [
    "for epoch in range(EPOCHS):\n",
    "    \n",
    "    network.train(True)\n",
    "    train_loss=0\n",
    "    for _ in tqdm(range(BATCHES_PER_EPOCH)):\n",
    "        \n",
    "        batch_context = as_matrix(np.random.choice(train_context, BATCH_SIZE, replace=False))\n",
    "        batch_context = Variable(torch.LongTensor(batch_context))\n",
    "        loss_t = compute_loss(network, batch_context)\n",
    "        \n",
    "        opt.zero_grad()\n",
    "        loss_t.backward()\n",
    "        opt.step()\n",
    "        \n",
    "        train_loss += loss_t.detach().numpy()\n",
    "        \n",
    "    train_loss /= BATCHES_PER_EPOCH\n",
    "    \n",
    "    print('\\nEpoch: {}, train loss: {}'.format(epoch + 1, train_loss))\n",
    "\n",
    "print(\"Finished!\")"
   ]
  },
  {
   "cell_type": "markdown",
   "metadata": {},
   "source": [
    "2.53"
   ]
  },
  {
   "cell_type": "code",
   "execution_count": 123,
   "metadata": {},
   "outputs": [],
   "source": [
    "PATH = 'lstm_weights/{}.pt'.format(name)\n",
    "torch.save(network.state_dict(), PATH)"
   ]
  },
  {
   "cell_type": "code",
   "execution_count": 160,
   "metadata": {
    "scrolled": false
   },
   "outputs": [],
   "source": [
    "def predict_word(network, seq, k=1):\n",
    "    network.train(False)\n",
    "    previous_word = Variable(torch.LongTensor(as_matrix([seq])))\n",
    "    next_word_logits = network.forward(previous_word)[0, -1]\n",
    "    next_word_probs = F.softmax(next_word_logits, -1).detach().numpy()\n",
    "    next_word_ix = np.argsort(next_word_probs)[::-1]\n",
    "    if k == 'all':\n",
    "        return next_word_ix\n",
    "    return next_word_ix[:k]"
   ]
  },
  {
   "cell_type": "code",
   "execution_count": 161,
   "metadata": {},
   "outputs": [],
   "source": [
    "def recall_k(network, context, k=1):\n",
    "    corrects = 0\n",
    "    for seq in tqdm(context):\n",
    "        X = seq[:-1]\n",
    "        y_true = seq[-1]\n",
    "        y_pred_k = predict_word(network, X, k)\n",
    "        for y_pred in y_pred_k:\n",
    "            if y_pred == y_true:\n",
    "                corrects += 1\n",
    "                break\n",
    "    return corrects/len(context)"
   ]
  },
  {
   "cell_type": "code",
   "execution_count": 162,
   "metadata": {},
   "outputs": [],
   "source": [
    "def auc_roc_score(network, context):\n",
    "    auc = 0\n",
    "    for seq in tqdm(context):\n",
    "        X = seq[:-1]\n",
    "        y_true = seq[-1]\n",
    "        rank = predict_word(network, X, 'all')\n",
    "        rank_true = np.where(rank == y_true)[0][0]\n",
    "        #y_false = set(range(1, poi_num)) - set(seq)\n",
    "        s = poi_num - len(seq) - 1\n",
    "        for i in rank[:rank_true]:\n",
    "            if i not in seq:\n",
    "                s -= 1\n",
    "        auc += s/(poi_num - len(seq) - 1)\n",
    "    return auc/len(context)"
   ]
  },
  {
   "cell_type": "code",
   "execution_count": 169,
   "metadata": {
    "scrolled": true
   },
   "outputs": [
    {
     "name": "stderr",
     "output_type": "stream",
     "text": [
      "100%|███████████████████████████████████████████████████████████████████████████| 12894/12894 [00:32<00:00, 399.90it/s]\n"
     ]
    },
    {
     "data": {
      "text/plain": [
       "0.9493562500759433"
      ]
     },
     "execution_count": 169,
     "metadata": {},
     "output_type": "execute_result"
    }
   ],
   "source": [
    "auc_roc = auc_roc_score(network, test_context)\n",
    "auc_roc"
   ]
  },
  {
   "cell_type": "markdown",
   "metadata": {},
   "source": [
    "0.94"
   ]
  },
  {
   "cell_type": "code",
   "execution_count": 170,
   "metadata": {},
   "outputs": [
    {
     "name": "stderr",
     "output_type": "stream",
     "text": [
      "100%|███████████████████████████████████████████████████████████████████████████| 12894/12894 [00:36<00:00, 353.62it/s]\n"
     ]
    },
    {
     "data": {
      "text/plain": [
       "0.2756320769350085"
      ]
     },
     "execution_count": 170,
     "metadata": {},
     "output_type": "execute_result"
    }
   ],
   "source": [
    "recall_1 = recall_k(network, test_context, 1)\n",
    "recall_1"
   ]
  },
  {
   "cell_type": "markdown",
   "metadata": {},
   "source": [
    "0.27"
   ]
  },
  {
   "cell_type": "code",
   "execution_count": 171,
   "metadata": {},
   "outputs": [
    {
     "name": "stderr",
     "output_type": "stream",
     "text": [
      "100%|███████████████████████████████████████████████████████████████████████████| 12894/12894 [00:36<00:00, 357.82it/s]\n"
     ]
    },
    {
     "data": {
      "text/plain": [
       "0.46905537459283386"
      ]
     },
     "execution_count": 171,
     "metadata": {},
     "output_type": "execute_result"
    }
   ],
   "source": [
    "recall_5 = recall_k(network, test_context, 5)\n",
    "recall_5"
   ]
  },
  {
   "cell_type": "markdown",
   "metadata": {},
   "source": [
    "0.47"
   ]
  },
  {
   "cell_type": "code",
   "execution_count": 172,
   "metadata": {},
   "outputs": [
    {
     "name": "stderr",
     "output_type": "stream",
     "text": [
      "100%|███████████████████████████████████████████████████████████████████████████| 12894/12894 [00:33<00:00, 384.68it/s]\n"
     ]
    },
    {
     "data": {
      "text/plain": [
       "0.5380797270048084"
      ]
     },
     "execution_count": 172,
     "metadata": {},
     "output_type": "execute_result"
    }
   ],
   "source": [
    "recall_10 = recall_k(network, test_context, 10)\n",
    "recall_10"
   ]
  },
  {
   "cell_type": "markdown",
   "metadata": {},
   "source": [
    "0.53"
   ]
  },
  {
   "cell_type": "code",
   "execution_count": 191,
   "metadata": {},
   "outputs": [],
   "source": [
    "metrics_dict = {}\n",
    "with open('metrics/metrics_dict.json', 'r') as f:\n",
    "    metrics_dict = json.load(f)"
   ]
  },
  {
   "cell_type": "code",
   "execution_count": 132,
   "metadata": {},
   "outputs": [],
   "source": [
    "metrics = {\n",
    "    'auc_roc': auc_roc,\n",
    "    'recall_1': recall_1,\n",
    "    'recall_5': recall_5,\n",
    "    'recall_10': recall_10\n",
    "}\n",
    "metrics_dict[name] = metrics"
   ]
  },
  {
   "cell_type": "code",
   "execution_count": 133,
   "metadata": {},
   "outputs": [],
   "source": [
    "with open('metrics/metrics_dict.json', 'w') as f:\n",
    "    json.dump(metrics_dict, f)"
   ]
  },
  {
   "cell_type": "markdown",
   "metadata": {},
   "source": [
    "### Plot"
   ]
  },
  {
   "cell_type": "code",
   "execution_count": 211,
   "metadata": {},
   "outputs": [],
   "source": [
    "with open('metrics/metrics_dict.json', 'r') as f:\n",
    "    metrics_dict = json.load(f)"
   ]
  },
  {
   "cell_type": "code",
   "execution_count": 230,
   "metadata": {},
   "outputs": [],
   "source": [
    "xx, yy1, yy2, yy3, yy4 = [], [], [], [], []\n",
    "for i in np.arange(0.0, 1.2, 0.2):\n",
    "    n = round(i, 1)\n",
    "    name = 'a_0.4_b_{}_new'.format(n)\n",
    "    metrics = metrics_dict[name]\n",
    "    yy1.append(metrics['auc_roc'])\n",
    "    yy2.append(metrics['recall_1'])\n",
    "    yy3.append(metrics['recall_5'])\n",
    "    yy4.append(metrics['recall_10'])\n",
    "    xx.append(n)"
   ]
  },
  {
   "cell_type": "code",
   "execution_count": 244,
   "metadata": {},
   "outputs": [
    {
     "data": {
      "image/png": "[encoded data removed]",
      "text/plain": [
       "<Figure size 720x720 with 4 Axes>"
      ]
     },
     "metadata": {
      "needs_background": "light"
     },
     "output_type": "display_data"
    }
   ],
   "source": [
    "plt.figure(figsize=(10, 10))\n",
    "plt.subplot(2, 2, 1)\n",
    "plt.plot(xx, yy1, label='auc')\n",
    "plt.subplot(2, 2, 2)\n",
    "plt.plot(xx, yy2, label='r1')\n",
    "plt.subplot(2, 2, 3)\n",
    "plt.plot(xx, yy3, label='r5')\n",
    "plt.subplot(2, 2, 4)\n",
    "plt.plot(xx, yy4, label='r10')\n",
    "plt.legend()\n",
    "plt.show()"
   ]
  },
  {
   "cell_type": "code",
   "execution_count": null,
   "metadata": {},
   "outputs": [],
   "source": []
  },
  {
   "cell_type": "code",
   "execution_count": null,
   "metadata": {},
   "outputs": [],
   "source": []
  }
 ],
 "metadata": {
  "kernelspec": {
   "display_name": "Python 3",
   "language": "python",
   "name": "python3"
  },
  "language_info": {
   "codemirror_mode": {
    "name": "ipython",
    "version": 3
   },
   "file_extension": ".py",
   "mimetype": "text/x-python",
   "name": "python",
   "nbconvert_exporter": "python",
   "pygments_lexer": "ipython3",
   "version": "3.8.5"
  }
 },
 "nbformat": 4,
 "nbformat_minor": 4
}
