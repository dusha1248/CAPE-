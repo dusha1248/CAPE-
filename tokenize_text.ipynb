{
 "cells": [
  {
   "cell_type": "code",
   "execution_count": 99,
   "metadata": {},
   "outputs": [],
   "source": [
    "import pandas as pd\n",
    "import numpy as np\n",
    "import nltk\n",
    "from nltk import word_tokenize\n",
    "from nltk.corpus import stopwords\n",
    "import string\n",
    "from tqdm import tqdm\n",
    "from collections import Counter"
   ]
  },
  {
   "cell_type": "code",
   "execution_count": 2,
   "metadata": {},
   "outputs": [],
   "source": [
    "df = pd.read_csv('data/data_full.csv')"
   ]
  },
  {
   "cell_type": "code",
   "execution_count": 186,
   "metadata": {},
   "outputs": [],
   "source": [
    "def tokenize_text_stopwords(text):\n",
    "    text = ' '.join(filter(lambda x: not x.startswith('#') and not x.startswith('@'), text.split()))\n",
    "    tokens = word_tokenize(text)\n",
    "    tokens = [w.lower() for w in tokens]\n",
    "    table = str.maketrans('', '', string.punctuation)\n",
    "    stripped = [w.translate(table) for w in tokens]\n",
    "    words = [word for word in stripped if word.isalpha()]\n",
    "    stop_words = set(stopwords.words('english'))\n",
    "    words = [w for w in words if not w in stop_words]\n",
    "    return words"
   ]
  },
  {
   "cell_type": "code",
   "execution_count": 187,
   "metadata": {},
   "outputs": [],
   "source": [
    "def tokenize_text(text):\n",
    "    text = ' '.join(filter(lambda x: not x.startswith('#') and not x.startswith('@'), text.split()))\n",
    "    tokens = word_tokenize(text)\n",
    "    tokens = [w.lower() for w in tokens]\n",
    "    table = str.maketrans('', '', string.punctuation)\n",
    "    stripped = [w.translate(table) for w in tokens]\n",
    "    words = [word for word in stripped if word.isalpha()]\n",
    "    return words"
   ]
  },
  {
   "cell_type": "code",
   "execution_count": 109,
   "metadata": {},
   "outputs": [
    {
     "name": "stderr",
     "output_type": "stream",
     "text": [
      "100%|████████████████████████████████████████████████████████████████████████| 138880/138880 [02:04<00:00, 1112.04it/s]\n"
     ]
    }
   ],
   "source": [
    "counter = Counter()\n",
    "for text in tqdm(df.subscription):\n",
    "    words = tokenize_text(text)\n",
    "    counter.update(words)"
   ]
  },
  {
   "cell_type": "code",
   "execution_count": 140,
   "metadata": {},
   "outputs": [],
   "source": [
    "most_common_words = [word for word in counter if counter[word] >= 3]"
   ]
  },
  {
   "cell_type": "code",
   "execution_count": 159,
   "metadata": {},
   "outputs": [],
   "source": [
    "with open('data/most_common_words.txt', 'w') as f:\n",
    "    for word in most_common_words:\n",
    "        try:\n",
    "            f.write(word + '\\n')\n",
    "        except:\n",
    "            pass"
   ]
  },
  {
   "cell_type": "code",
   "execution_count": 166,
   "metadata": {},
   "outputs": [],
   "source": [
    "with open('data/most_common_words.txt', 'r') as f:\n",
    "    most_common_words = set(line.strip() for line in f)"
   ]
  },
  {
   "cell_type": "code",
   "execution_count": 168,
   "metadata": {},
   "outputs": [
    {
     "name": "stderr",
     "output_type": "stream",
     "text": [
      "100%|████████████████████████████████████████████████████████████████████████| 138880/138880 [02:01<00:00, 1142.90it/s]\n"
     ]
    }
   ],
   "source": [
    "subscriptions_clear = []\n",
    "for text in tqdm(df.subscription):\n",
    "    words = tokenize_text(text)\n",
    "    words = [word for word in words if word in most_common_words]\n",
    "    if len(words) >= 2:\n",
    "        subscriptions_clear.append(' '.join(words))\n",
    "    else:\n",
    "        subscriptions_clear.append(np.nan)"
   ]
  },
  {
   "cell_type": "code",
   "execution_count": 170,
   "metadata": {},
   "outputs": [
    {
     "data": {
      "text/plain": [
       "0    One night 2019 when Stockholm City was empty #...\n",
       "1         Dark clouds meets light over Stockholm City.\n",
       "2        Picture of #cathedral #malaga #2020 #covid_19\n",
       "3    #wonderland Stockholm, #sweden #2021 #longexpo...\n",
       "4    Sacred journeys through the sand\\n\\nThe temple...\n",
       "Name: subscription, dtype: object"
      ]
     },
     "execution_count": 170,
     "metadata": {},
     "output_type": "execute_result"
    }
   ],
   "source": [
    "df.subscription[:5]"
   ]
  },
  {
   "cell_type": "code",
   "execution_count": 183,
   "metadata": {},
   "outputs": [
    {
     "data": {
      "text/plain": [
       "['one night stockholm city empty',\n",
       " 'dark clouds meets light stockholm city',\n",
       " 'picture',\n",
       " 'stockholm',\n",
       " 'sacred journeys sand temple town talakadu near mysore offers slice history heritage mustvisit largest temple complex architectural influences various dynasties ruled talakadu believed shiva linga ie built emerged part divine intervention part five shiva temple darshan tour comprising best time visit reach air nearest airport km away bengaluru km away road road trip bengaluru talakadu wellconnected road cities stay mysore best place several hotel options']"
      ]
     },
     "execution_count": 183,
     "metadata": {},
     "output_type": "execute_result"
    }
   ],
   "source": [
    "subscriptions_clear[:5]"
   ]
  },
  {
   "cell_type": "code",
   "execution_count": 181,
   "metadata": {},
   "outputs": [],
   "source": [
    "k = 0\n",
    "for i in subscriptions_clear:\n",
    "    if len(i) < 4:\n",
    "        k += 1"
   ]
  },
  {
   "cell_type": "code",
   "execution_count": 182,
   "metadata": {},
   "outputs": [
    {
     "data": {
      "text/plain": [
       "17160"
      ]
     },
     "execution_count": 182,
     "metadata": {},
     "output_type": "execute_result"
    }
   ],
   "source": [
    "k"
   ]
  },
  {
   "cell_type": "code",
   "execution_count": 173,
   "metadata": {},
   "outputs": [
    {
     "data": {
      "text/plain": [
       "138880"
      ]
     },
     "execution_count": 173,
     "metadata": {},
     "output_type": "execute_result"
    }
   ],
   "source": [
    "len(subscriptions_clear)"
   ]
  },
  {
   "cell_type": "code",
   "execution_count": null,
   "metadata": {},
   "outputs": [],
   "source": []
  }
 ],
 "metadata": {
  "kernelspec": {
   "display_name": "Python 3",
   "language": "python",
   "name": "python3"
  },
  "language_info": {
   "codemirror_mode": {
    "name": "ipython",
    "version": 3
   },
   "file_extension": ".py",
   "mimetype": "text/x-python",
   "name": "python",
   "nbconvert_exporter": "python",
   "pygments_lexer": "ipython3",
   "version": "3.8.5"
  }
 },
 "nbformat": 4,
 "nbformat_minor": 4
}
